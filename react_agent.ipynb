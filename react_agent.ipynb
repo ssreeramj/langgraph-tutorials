{
  "nbformat": 4,
  "nbformat_minor": 0,
  "metadata": {
    "colab": {
      "provenance": [],
      "authorship_tag": "ABX9TyM/SfPEKU1/L1tI3hnNFd/3",
      "include_colab_link": true
    },
    "kernelspec": {
      "name": "python3",
      "display_name": "Python 3"
    },
    "language_info": {
      "name": "python"
    }
  },
  "cells": [
    {
      "cell_type": "markdown",
      "metadata": {
        "id": "view-in-github",
        "colab_type": "text"
      },
      "source": [
        "<a href=\"https://colab.research.google.com/github/ssreeramj/langgraph-tutorials/blob/main/react_agent.ipynb\" target=\"_parent\"><img src=\"https://colab.research.google.com/assets/colab-badge.svg\" alt=\"Open In Colab\"/></a>"
      ]
    },
    {
      "cell_type": "markdown",
      "source": [
        "# Installation"
      ],
      "metadata": {
        "id": "doAAE_3B0iPx"
      }
    },
    {
      "cell_type": "code",
      "execution_count": 14,
      "metadata": {
        "id": "2sDiGgQG0dHX"
      },
      "outputs": [],
      "source": [
        "!pip install -qU langchain langchainhub langgraph openai langchain-groq langchain-openai duckduckgo-search langchain-community chromadb"
      ]
    },
    {
      "cell_type": "markdown",
      "source": [
        "# Imports"
      ],
      "metadata": {
        "id": "CfUn90pB0nuI"
      }
    },
    {
      "cell_type": "code",
      "source": [
        "# Standard library imports\n",
        "import operator\n",
        "import os\n",
        "import random\n",
        "\n",
        "\n",
        "# Third-party imports\n",
        "from google.colab import userdata\n",
        "from IPython.display import Image, display\n",
        "from langchain import hub as lang_hub\n",
        "from langchain_community.tools import DuckDuckGoSearchRun, DuckDuckGoSearchResults\n",
        "from langchain_core.agents import AgentAction, AgentFinish\n",
        "from langchain_core.messages import BaseMessage, HumanMessage, SystemMessage, ToolMessage\n",
        "from langchain_core.pydantic_v1 import BaseModel, Field\n",
        "from langchain_core.runnables.graph import CurveStyle, MermaidDrawMethod, NodeColors\n",
        "from langchain_core.tools import StructuredTool, tool\n",
        "from langchain_groq import ChatGroq\n",
        "from langchain_openai import ChatOpenAI\n",
        "from langchain.prompts import ChatPromptTemplate, PromptTemplate\n",
        "from langgraph.graph import END, MessageGraph, StateGraph\n",
        "from langgraph.prebuilt import ToolInvocation\n",
        "from langgraph.prebuilt.tool_executor import ToolExecutor\n",
        "from typing import Annotated, Sequence, TypedDict, Union, Literal\n",
        "from langchain_community.tools.tavily_search import TavilySearchResults\n",
        "\n",
        "from langchain.text_splitter import RecursiveCharacterTextSplitter\n",
        "from langchain_community.document_loaders import WebBaseLoader\n",
        "from langchain_community.vectorstores import Chroma\n",
        "from langchain_openai import OpenAIEmbeddings\n",
        "\n",
        "from pprint import pprint"
      ],
      "metadata": {
        "id": "hD6SQ4BW0nXW"
      },
      "execution_count": 18,
      "outputs": []
    },
    {
      "cell_type": "markdown",
      "source": [
        "# Env variables"
      ],
      "metadata": {
        "id": "JAClVi5eW2tR"
      }
    },
    {
      "cell_type": "code",
      "source": [
        "# Langsmith tracing\n",
        "os.environ[\"LANGCHAIN_TRACING_V2\"] = \"true\"\n",
        "os.environ[\"LANGCHAIN_ENDPOINT\"] = \"https://api.smith.langchain.com\"\n",
        "os.environ[\"LANGCHAIN_API_KEY\"] = userdata.get('LANGCHAIN_API_KEY')\n",
        "os.environ[\"LANGCHAIN_PROJECT\"] = \"deep-learning-ai-agent-course\""
      ],
      "metadata": {
        "id": "2hAigxR508Bl"
      },
      "execution_count": 4,
      "outputs": []
    },
    {
      "cell_type": "code",
      "source": [
        "# Groq model\n",
        "os.environ[\"GROQ_API_KEY\"] = userdata.get('GROQ_API_KEY')\n",
        "os.environ[\"OPENAI_API_KEY\"] = userdata.get('OPENAI_API_KEY')\n",
        "\n",
        "os.environ[\"TAVILY_API_KEY\"] = userdata.get('TAVILY_API_KEY')"
      ],
      "metadata": {
        "id": "xnxpu-YBIzDb"
      },
      "execution_count": 5,
      "outputs": []
    },
    {
      "cell_type": "markdown",
      "source": [
        "# Utility Functions"
      ],
      "metadata": {
        "id": "CcxU8MmWl_8k"
      }
    },
    {
      "cell_type": "code",
      "source": [
        "def display_graph(g):\n",
        "    display(\n",
        "        Image(\n",
        "            g.get_graph().draw_mermaid_png(\n",
        "                draw_method=MermaidDrawMethod.API,\n",
        "            )\n",
        "        )\n",
        "    )"
      ],
      "metadata": {
        "id": "drdBsV1AmBRZ"
      },
      "execution_count": 17,
      "outputs": []
    },
    {
      "cell_type": "markdown",
      "source": [
        "# Simple ReAct (Reason + Act) agent from scratch"
      ],
      "metadata": {
        "id": "33A2l5jzg10o"
      }
    },
    {
      "cell_type": "code",
      "source": [
        "llm = ChatGroq(model=\"llama3-8b-8192\")\n",
        "response = llm.invoke(\"Hi there\")\n",
        "print(response.content)"
      ],
      "metadata": {
        "colab": {
          "base_uri": "https://localhost:8080/"
        },
        "id": "jplTOdSuecT4",
        "outputId": "f648a12a-d65b-4370-b125-1485fcabe86a"
      },
      "execution_count": 10,
      "outputs": [
        {
          "output_type": "stream",
          "name": "stdout",
          "text": [
            "Hi! It's nice to meet you. Is there something I can help you with, or would you like to chat?\n"
          ]
        }
      ]
    },
    {
      "cell_type": "code",
      "source": [
        "system_prompt = \"\"\"You are a smart research assistant. Use the search engine to look up information. \\\n",
        "You are allowed to make multiple calls (either together or in sequence). \\\n",
        "Only look up information when you are sure of what you want. \\\n",
        "If you need to look up some information before asking a follow up question, you are allowed to do that!\n",
        "\"\"\""
      ],
      "metadata": {
        "id": "YdxhwOCepQUX"
      },
      "execution_count": 38,
      "outputs": []
    },
    {
      "cell_type": "code",
      "source": [
        "# define all tools\n",
        "\n",
        "class SearchEngineInputSchema(BaseModel):\n",
        "    query: str = Field(..., name=\"Search Query\", description=\"query to search the internet\")\n",
        "\n",
        "# search engine tool\n",
        "@tool(\"web-search\", args_schema=SearchEngineInputSchema)\n",
        "def web_search(query):\n",
        "    \"\"\"search the internet for the query and returns responses\"\"\"\n",
        "    search_engine = DuckDuckGoSearchResults(max_results=4, backend=\"news\")\n",
        "    return search_engine.invoke(query)"
      ],
      "metadata": {
        "id": "msiy5BUYtE2Q"
      },
      "execution_count": 71,
      "outputs": []
    },
    {
      "cell_type": "code",
      "source": [
        "ans = web_search.invoke(\"t20 world cup 2024 winners\")\n",
        "ans"
      ],
      "metadata": {
        "colab": {
          "base_uri": "https://localhost:8080/",
          "height": 140
        },
        "id": "wP8D-ZekuENK",
        "outputId": "9bb4e8e2-05ee-4dc2-84a2-240a4beb82dd"
      },
      "execution_count": 72,
      "outputs": [
        {
          "output_type": "execute_result",
          "data": {
            "text/plain": [
              "'[snippet: Members of the India 2024 T20 World Cup-winning squad - Shivam Dube, Yashasvi Jaiswal and Sanju Samson - have joined the Men in Blue in Harare ahead of the third game against Zimbabwe., title: [Watch] T20 World Cup winners Shivam Dube, Yashasvi Jaiswal and Sanju Samson join Team India ahead of 3rd game against ZIM, link: https://www.msn.com/en-us/sports/other/watch-t20-world-cup-winners-shivam-dube-yashasvi-jaiswal-and-sanju-samson-join-team-india-ahead-of-3rd-game-against-zim/ar-BB1pFH4c, date: 2024-07-09T12:31:07+00:00, source: Sportskeeda on MSN.com], [snippet: Rohit Sharma led India to victory in the T20 World Cup, joining the ranks of successful captains like Sri Lanka\\'s Lasith Malinga and England\\'s Paul Co, title: ICC T20 World Cup winners list with captains from 2007 to 2024, link: https://www.msn.com/en-in/sports/cricket/icc-t20-world-cup-winners-list-with-captains-from-2007-to-2024/ar-BB1ple83, date: 2024-07-05T06:20:00+00:00, source: Indiatimes on MSN.com], [snippet: cricket fans around the world witnessed history as India emerged victorious in the T20 World Cup 2024 final! The Men in Blue defeated South Africa by a narrow margin of seven runs, ending their 13 ..., title: T20 World Cup 2024 Winner: Champions Crowned! India Lifts the T20 World Cup Trophy, link: https://www.jagranjosh.com/general-knowledge/icc-t20-world-cup-2024-winner-1719655562-1, date: 2024-06-30T03:56:00+00:00, source: jagranjosh.com], [snippet: The Maldives Marketing and Public Relations Corporation (MMPRC), which is a government body, in collaboration with the Maldives Association of Tourism Industry (MATI) sent an official invite to the In, title: \"We would be honoured to host you\" - Maldives government invites Indian team to celebrate 2024 T20 World Cup win, link: https://www.msn.com/en-us/sports/other/we-would-be-honoured-to-host-you-maldives-government-invites-indian-team-to-celebrate-2024-t20-world-cup-win/ar-BB1pFtqB, date: 2024-07-09T11:59:17+00:00, source: Sportskeeda on MSN.com]'"
            ],
            "application/vnd.google.colaboratory.intrinsic+json": {
              "type": "string"
            }
          },
          "metadata": {},
          "execution_count": 72
        }
      ]
    },
    {
      "cell_type": "code",
      "source": [
        "tools = [TavilySearchResults(max_results=3)]\n",
        "tool_executor = ToolExecutor(tools=tools)\n",
        "llm_with_tools = llm.bind_tools(tools=tools)"
      ],
      "metadata": {
        "id": "Dz6ly1P6nywu"
      },
      "execution_count": 79,
      "outputs": []
    },
    {
      "cell_type": "code",
      "source": [
        "class ReactAgentState(TypedDict):\n",
        "    messages: Annotated[Sequence[BaseMessage], operator.add]"
      ],
      "metadata": {
        "id": "_4ZDE8WxkwJH"
      },
      "execution_count": 80,
      "outputs": []
    },
    {
      "cell_type": "code",
      "source": [
        "# call agent node\n",
        "def call_agent(state: ReactAgentState):\n",
        "    chat_history = state[\"messages\"]\n",
        "    agent_response = llm_with_tools.invoke(chat_history)\n",
        "    return { \"messages\": [agent_response] }\n",
        "\n",
        "# execute tools function\n",
        "def execute_tool(state: ReactAgentState):\n",
        "    last_message = state[\"messages\"][-1]\n",
        "\n",
        "    all_tool_responses = []\n",
        "    for tool_call in last_message.tool_calls:\n",
        "        tool_action = ToolInvocation(\n",
        "            tool=tool_call[\"name\"],\n",
        "            tool_input=tool_call[\"args\"]\n",
        "        )\n",
        "        tool_response = tool_executor.invoke(tool_action)\n",
        "        all_tool_responses.append(ToolMessage(\n",
        "            content=str(tool_response),\n",
        "            tool_call_id=tool_call[\"id\"],\n",
        "            name=tool_call[\"name\"],\n",
        "        ))\n",
        "\n",
        "    return { \"messages\": all_tool_responses }\n",
        "\n",
        "# check if we have the final answer\n",
        "def should_continue(state: ReactAgentState):\n",
        "    last_message = state[\"messages\"][-1]\n",
        "\n",
        "    if not last_message.tool_calls:\n",
        "        return \"end\"\n",
        "\n",
        "    return \"continue\""
      ],
      "metadata": {
        "id": "7rHdxn62miL_"
      },
      "execution_count": 81,
      "outputs": []
    },
    {
      "cell_type": "code",
      "source": [
        "state = StateGraph(ReactAgentState)\n",
        "\n",
        "state.add_node(\"agent\", call_agent)\n",
        "state.add_node(\"execute_tool\", execute_tool)\n",
        "\n",
        "state.add_conditional_edges(\n",
        "    \"agent\",\n",
        "    should_continue,\n",
        "    {\n",
        "        \"end\": END,\n",
        "        \"continue\": \"execute_tool\",\n",
        "    }\n",
        ")\n",
        "state.add_edge(\"execute_tool\", \"agent\")\n",
        "state.set_entry_point(\"agent\")\n",
        "\n",
        "react_agent = state.compile()\n",
        "\n",
        "display_graph(react_agent)"
      ],
      "metadata": {
        "colab": {
          "base_uri": "https://localhost:8080/",
          "height": 254
        },
        "id": "8fEq2sdgmSrQ",
        "outputId": "d66424a2-3bf7-44fb-ead0-918fb0637ec8"
      },
      "execution_count": 82,
      "outputs": [
        {
          "output_type": "display_data",
          "data": {
            "image/jpeg": "[encoded data removed]",
            "text/plain": [
              "<IPython.core.display.Image object>"
            ]
          },
          "metadata": {}
        }
      ]
    },
    {
      "cell_type": "code",
      "source": [
        "query = \"who won the cricket T20 world cup 2024? what is the population of that country?\"\n",
        "\n",
        "system_message = SystemMessage(content=system_prompt)\n",
        "human_message = HumanMessage(content=query)\n",
        "\n",
        "messages = [system_message, human_message]\n",
        "\n",
        "response = react_agent.invoke({ \"messages\": messages })"
      ],
      "metadata": {
        "id": "LngN79floiN-"
      },
      "execution_count": 89,
      "outputs": []
    },
    {
      "cell_type": "code",
      "source": [
        "print(response[\"messages\"][-1].content)"
      ],
      "metadata": {
        "colab": {
          "base_uri": "https://localhost:8080/"
        },
        "id": "enmjhQZQp3z3",
        "outputId": "e1fbf20e-d720-4f05-91bb-8551d02cc08f"
      },
      "execution_count": 90,
      "outputs": [
        {
          "output_type": "stream",
          "name": "stdout",
          "text": [
            "The population of South Africa is approximately 62 million people.\n"
          ]
        }
      ]
    },
    {
      "cell_type": "code",
      "source": [],
      "metadata": {
        "id": "u-NT5DLkweSM"
      },
      "execution_count": null,
      "outputs": []
    }
  ]
}