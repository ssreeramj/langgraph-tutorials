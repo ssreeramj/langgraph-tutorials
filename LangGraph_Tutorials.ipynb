{
  "nbformat": 4,
  "nbformat_minor": 0,
  "metadata": {
    "colab": {
      "provenance": [],
      "toc_visible": true,
      "include_colab_link": true
    },
    "kernelspec": {
      "name": "python3",
      "display_name": "Python 3"
    },
    "language_info": {
      "name": "python"
    }
  },
  "cells": [
    {
      "cell_type": "markdown",
      "metadata": {
        "id": "view-in-github",
        "colab_type": "text"
      },
      "source": [
        "<a href=\"https://colab.research.google.com/github/ssreeramj/langgraph-tutorials/blob/main/LangGraph_Tutorials.ipynb\" target=\"_parent\"><img src=\"https://colab.research.google.com/assets/colab-badge.svg\" alt=\"Open In Colab\"/></a>"
      ]
    },
    {
      "cell_type": "markdown",
      "source": [
        "Copyright © 2023 Patrick Loeber"
      ],
      "metadata": {
        "id": "DOycdBmh0FBf"
      }
    },
    {
      "cell_type": "markdown",
      "source": [
        "# LangChain\n",
        "\n",
        "LangChain is a framework for developing applications powered by language models.\n",
        "\n",
        "- GitHub: https://github.com/hwchase17/langchain\n",
        "- Docs: https://python.langchain.com/en/latest/index.html\n",
        "\n",
        "### Overview:\n",
        "- Installation\n",
        "- LLMs\n",
        "- Prompt Templates\n",
        "- Chains\n",
        "- Agents and Tools\n",
        "- Memory\n",
        "- Document Loaders\n",
        "- Indexes"
      ],
      "metadata": {
        "id": "nTDgRy0jKDkP"
      }
    },
    {
      "cell_type": "markdown",
      "source": [
        "## Installation"
      ],
      "metadata": {
        "id": "5WGtOYYTKfz3"
      }
    },
    {
      "cell_type": "code",
      "execution_count": null,
      "metadata": {
        "id": "bcrn7QRyQXGj",
        "colab": {
          "base_uri": "https://localhost:8080/"
        },
        "outputId": "c3f578d6-7d7a-4212-8afd-68e98904e165"
      },
      "outputs": [
        {
          "output_type": "stream",
          "name": "stdout",
          "text": [
            "\u001b[2K     \u001b[90m━━━━━━━━━━━━━━━━━━━━━━━━━━━━━━━━━━━━━━━━\u001b[0m \u001b[32m975.5/975.5 kB\u001b[0m \u001b[31m7.1 MB/s\u001b[0m eta \u001b[36m0:00:00\u001b[0m\n",
            "\u001b[2K     \u001b[90m━━━━━━━━━━━━━━━━━━━━━━━━━━━━━━━━━━━━━━━━\u001b[0m \u001b[32m88.9/88.9 kB\u001b[0m \u001b[31m7.8 MB/s\u001b[0m eta \u001b[36m0:00:00\u001b[0m\n",
            "\u001b[2K     \u001b[90m━━━━━━━━━━━━━━━━━━━━━━━━━━━━━━━━━━━━━━━━\u001b[0m \u001b[32m327.5/327.5 kB\u001b[0m \u001b[31m10.6 MB/s\u001b[0m eta \u001b[36m0:00:00\u001b[0m\n",
            "\u001b[2K     \u001b[90m━━━━━━━━━━━━━━━━━━━━━━━━━━━━━━━━━━━━━━━━\u001b[0m \u001b[32m43.2/43.2 kB\u001b[0m \u001b[31m4.1 MB/s\u001b[0m eta \u001b[36m0:00:00\u001b[0m\n",
            "\u001b[2K     \u001b[90m━━━━━━━━━━━━━━━━━━━━━━━━━━━━━━━━━━━━━━━━\u001b[0m \u001b[32m332.8/332.8 kB\u001b[0m \u001b[31m11.5 MB/s\u001b[0m eta \u001b[36m0:00:00\u001b[0m\n",
            "\u001b[2K     \u001b[90m━━━━━━━━━━━━━━━━━━━━━━━━━━━━━━━━━━━━━━━━\u001b[0m \u001b[32m127.4/127.4 kB\u001b[0m \u001b[31m7.6 MB/s\u001b[0m eta \u001b[36m0:00:00\u001b[0m\n",
            "\u001b[2K     \u001b[90m━━━━━━━━━━━━━━━━━━━━━━━━━━━━━━━━━━━━━━━━\u001b[0m \u001b[32m75.6/75.6 kB\u001b[0m \u001b[31m8.4 MB/s\u001b[0m eta \u001b[36m0:00:00\u001b[0m\n",
            "\u001b[2K     \u001b[90m━━━━━━━━━━━━━━━━━━━━━━━━━━━━━━━━━━━━━━━━\u001b[0m \u001b[32m103.5/103.5 kB\u001b[0m \u001b[31m10.1 MB/s\u001b[0m eta \u001b[36m0:00:00\u001b[0m\n",
            "\u001b[2K     \u001b[90m━━━━━━━━━━━━━━━━━━━━━━━━━━━━━━━━━━━━━━━━\u001b[0m \u001b[32m1.1/1.1 MB\u001b[0m \u001b[31m14.9 MB/s\u001b[0m eta \u001b[36m0:00:00\u001b[0m\n",
            "\u001b[2K     \u001b[90m━━━━━━━━━━━━━━━━━━━━━━━━━━━━━━━━━━━━━━━━\u001b[0m \u001b[32m77.9/77.9 kB\u001b[0m \u001b[31m6.2 MB/s\u001b[0m eta \u001b[36m0:00:00\u001b[0m\n",
            "\u001b[2K     \u001b[90m━━━━━━━━━━━━━━━━━━━━━━━━━━━━━━━━━━━━━━━━\u001b[0m \u001b[32m58.3/58.3 kB\u001b[0m \u001b[31m6.3 MB/s\u001b[0m eta \u001b[36m0:00:00\u001b[0m\n",
            "\u001b[2K     \u001b[90m━━━━━━━━━━━━━━━━━━━━━━━━━━━━━━━━━━━━━━━━\u001b[0m \u001b[32m145.0/145.0 kB\u001b[0m \u001b[31m13.8 MB/s\u001b[0m eta \u001b[36m0:00:00\u001b[0m\n",
            "\u001b[?25h"
          ]
        }
      ],
      "source": [
        "!pip install -qU langchain langgraph openai langchain-groq langchain-openai"
      ]
    },
    {
      "cell_type": "markdown",
      "source": [
        "## LangGraph Tutorial"
      ],
      "metadata": {
        "id": "CsmeThxaXcDz"
      }
    },
    {
      "cell_type": "code",
      "source": [
        "from langchain_core.messages import HumanMessage\n",
        "from langgraph.graph import END, MessageGraph\n",
        "\n",
        "import os\n",
        "from google.colab import userdata\n",
        "\n",
        "from IPython.display import Image, display\n",
        "from langchain_core.runnables.graph import CurveStyle, MermaidDrawMethod, NodeColors"
      ],
      "metadata": {
        "id": "0RdgKkNJW6_l"
      },
      "execution_count": null,
      "outputs": []
    },
    {
      "cell_type": "code",
      "source": [
        "def display_graph(g):\n",
        "    display(\n",
        "        Image(\n",
        "            g.get_graph().draw_mermaid_png(\n",
        "                draw_method=MermaidDrawMethod.API,\n",
        "            )\n",
        "        )\n",
        "    )"
      ],
      "metadata": {
        "id": "oBLdXdPpuzt_"
      },
      "execution_count": null,
      "outputs": []
    },
    {
      "cell_type": "code",
      "source": [
        "def add_one(input):\n",
        "    print(f\"{input=}\")\n",
        "    input[0].content = input[0].content + 'a'\n",
        "    return input"
      ],
      "metadata": {
        "id": "PIBaUW2CXboM"
      },
      "execution_count": null,
      "outputs": []
    },
    {
      "cell_type": "code",
      "source": [
        "graph = MessageGraph()\n",
        "\n",
        "graph.add_node(\"node_a\", add_one)\n",
        "graph.add_edge(\"node_a\", \"node_b\")\n",
        "graph.add_edge(\"node_a\", \"node_c\")\n",
        "\n",
        "graph.add_node(\"node_b\", add_one)\n",
        "graph.add_node(\"node_c\", add_one)\n",
        "\n",
        "graph.add_edge(\"node_b\", END)\n",
        "graph.add_edge(\"node_c\", END)\n",
        "\n",
        "graph.set_entry_point(\"node_a\")\n",
        "\n",
        "runnable = graph.compile()"
      ],
      "metadata": {
        "id": "3ZTTsCtlXvCA"
      },
      "execution_count": null,
      "outputs": []
    },
    {
      "cell_type": "code",
      "source": [
        "from IPython.display import Image, display\n",
        "from langchain_core.runnables.graph import CurveStyle, MermaidDrawMethod, NodeColors\n",
        "\n",
        "display(\n",
        "    Image(\n",
        "        runnable.get_graph().draw_mermaid_png(\n",
        "            draw_method=MermaidDrawMethod.API,\n",
        "        )\n",
        "    )\n",
        ")"
      ],
      "metadata": {
        "colab": {
          "base_uri": "https://localhost:8080/",
          "height": 319
        },
        "id": "YXUf7g-7Xu_i",
        "outputId": "a71b9095-2440-471e-adaa-03545025fd58"
      },
      "execution_count": null,
      "outputs": [
        {
          "output_type": "display_data",
          "data": {
            "image/jpeg": "[encoded data removed]",
            "text/plain": [
              "<IPython.core.display.Image object>"
            ]
          },
          "metadata": {}
        }
      ]
    },
    {
      "cell_type": "code",
      "source": [
        "result = runnable.invoke(\"b\")\n",
        "result[0].content"
      ],
      "metadata": {
        "colab": {
          "base_uri": "https://localhost:8080/",
          "height": 87
        },
        "id": "kLND0G6tXu8z",
        "outputId": "0e94798a-458c-4258-9335-35ed37450884"
      },
      "execution_count": null,
      "outputs": [
        {
          "output_type": "stream",
          "name": "stdout",
          "text": [
            "input=[HumanMessage(content='b', id='81a42657-cc72-4d47-bdd2-a51da7978cd9')]\n",
            "input=[HumanMessage(content='ba', id='81a42657-cc72-4d47-bdd2-a51da7978cd9')]\n",
            "input=[HumanMessage(content='baa', id='81a42657-cc72-4d47-bdd2-a51da7978cd9')]\n"
          ]
        },
        {
          "output_type": "execute_result",
          "data": {
            "text/plain": [
              "'baaa'"
            ],
            "application/vnd.google.colaboratory.intrinsic+json": {
              "type": "string"
            }
          },
          "metadata": {},
          "execution_count": 10
        }
      ]
    },
    {
      "cell_type": "markdown",
      "source": [
        "## Conditional Edges"
      ],
      "metadata": {
        "id": "6WPoocVTd8V2"
      }
    },
    {
      "cell_type": "code",
      "source": [
        "workflow = MessageGraph()\n",
        "\n",
        "workflow.add_node(\"programmer\", add_one)\n",
        "workflow.add_node(\"debugger\", add_one)\n",
        "workflow.add_node(\"action\", add_one)\n",
        "workflow.set_entry_point(\"programmer\")\n",
        "\n",
        "workflow.add_conditional_edges(\n",
        "    \"programmer\",\n",
        "    add_one,\n",
        "    {\"continue\": \"action\", \"end\": \"debugger\"}\n",
        ")\n",
        "\n",
        "workflow.add_conditional_edges(\n",
        "    \"debugger\",\n",
        "    add_one,\n",
        "    {\"continue\": \"action\", \"end\": END}\n",
        ")\n",
        "\n",
        "workflow.add_edge(\"action\", \"programmer\")\n",
        "\n",
        "app = workflow.compile()"
      ],
      "metadata": {
        "id": "FiUBSLq-Xu6V"
      },
      "execution_count": null,
      "outputs": []
    },
    {
      "cell_type": "code",
      "source": [
        "\n",
        "\n",
        "display_graph(app)"
      ],
      "metadata": {
        "colab": {
          "base_uri": "https://localhost:8080/",
          "height": 357
        },
        "id": "oNYaViNth3_Q",
        "outputId": "e490ede1-2d63-45de-919f-2dc7122d47e6"
      },
      "execution_count": null,
      "outputs": [
        {
          "output_type": "display_data",
          "data": {
            "image/jpeg": "[encoded data removed]",
            "text/plain": [
              "<IPython.core.display.Image object>"
            ]
          },
          "metadata": {}
        }
      ]
    },
    {
      "cell_type": "code",
      "source": [
        "def entry(input):\n",
        "    return input\n",
        "\n",
        "def work_with_b(messages):\n",
        "    print(\"Using branch b\")\n",
        "    return messages\n",
        "\n",
        "def work_with_c(messages):\n",
        "    print(\"Using branch c\")\n",
        "    return messages\n",
        "\n",
        "def router(messages):\n",
        "    if not messages:\n",
        "        return END\n",
        "\n",
        "    if \"use_b\" in messages[-1].content:\n",
        "        return \"node_b\"\n",
        "    else:\n",
        "        return \"node_c\""
      ],
      "metadata": {
        "id": "sW9Ioorgidhi"
      },
      "execution_count": null,
      "outputs": []
    },
    {
      "cell_type": "code",
      "source": [
        "graph = MessageGraph()\n",
        "\n",
        "node_a = graph.add_node(\"node_a\", entry)\n",
        "node_b = graph.add_node(\"node_b\", work_with_b)\n",
        "node_c = graph.add_node(\"node_c\", work_with_c)\n",
        "\n",
        "graph.add_conditional_edges(\n",
        "    \"node_a\",\n",
        "    router,\n",
        "    {\"node_b\": \"node_b\", \"node_c\": \"node_c\"}\n",
        ")\n",
        "\n",
        "graph.add_edge(\"node_b\", END)\n",
        "graph.add_edge(\"node_c\", END)\n",
        "\n",
        "graph.set_entry_point(\"node_a\")\n",
        "\n",
        "app = graph.compile()"
      ],
      "metadata": {
        "id": "8p9p-jCMideN"
      },
      "execution_count": null,
      "outputs": []
    },
    {
      "cell_type": "code",
      "source": [
        "display_graph(app)"
      ],
      "metadata": {
        "colab": {
          "base_uri": "https://localhost:8080/",
          "height": 319
        },
        "id": "ePpOz15gidbm",
        "outputId": "a81d1708-a4cf-4d13-8100-7f55e3ab4974"
      },
      "execution_count": null,
      "outputs": [
        {
          "output_type": "display_data",
          "data": {
            "image/jpeg": "[encoded data removed]",
            "text/plain": [
              "<IPython.core.display.Image object>"
            ]
          },
          "metadata": {}
        }
      ]
    },
    {
      "cell_type": "code",
      "source": [
        "app.invoke(\"hello use_b\")"
      ],
      "metadata": {
        "colab": {
          "base_uri": "https://localhost:8080/"
        },
        "id": "gzW2PpvdmhI4",
        "outputId": "f6e84135-4743-4c06-fbc0-4fb194f99320"
      },
      "execution_count": null,
      "outputs": [
        {
          "output_type": "stream",
          "name": "stdout",
          "text": [
            "Using branch b\n"
          ]
        },
        {
          "output_type": "execute_result",
          "data": {
            "text/plain": [
              "[HumanMessage(content='hello use_b', id='2c987c32-bd14-4c0d-ab32-a18ecac03e17')]"
            ]
          },
          "metadata": {},
          "execution_count": 32
        }
      ]
    },
    {
      "cell_type": "markdown",
      "source": [
        " ## Cycles using Langgraph"
      ],
      "metadata": {
        "id": "5zGaJ-OPwnvK"
      }
    },
    {
      "cell_type": "code",
      "source": [
        "def agent(messages):\n",
        "    return messages\n",
        "\n",
        "\n",
        "def action(messages):\n",
        "    print(f\"Action Taken: {[msg.content for msg in messages]}\")\n",
        "    if len(messages) < 5:\n",
        "        messages.append(HumanMessage(content=\"continue\"))\n",
        "    else:\n",
        "        messages.append(HumanMessage(content=\"end\"))\n",
        "\n",
        "    return messages\n",
        "\n",
        "\n",
        "def should_continue(messages):\n",
        "    \"\"\"\n",
        "    should return either 'continue' or 'end'\n",
        "    \"\"\"\n",
        "    if \"end\" in messages[-1].content:\n",
        "        return \"end\"\n",
        "    return \"continue\"\n",
        "    ...\n",
        "\n",
        "graph = MessageGraph()\n",
        "\n",
        "graph.add_node(\"agent\", agent)\n",
        "graph.add_node(\"action\", action)\n",
        "graph.add_conditional_edges(\n",
        "    \"agent\",\n",
        "    should_continue,\n",
        "    {\"continue\": \"action\", \"end\": END}\n",
        ")\n",
        "\n",
        "graph.add_edge(\"action\", \"agent\")\n",
        "graph.set_entry_point(\"agent\")\n",
        "\n",
        "runnable = graph.compile()\n",
        "\n",
        "display_graph(runnable)"
      ],
      "metadata": {
        "colab": {
          "base_uri": "https://localhost:8080/",
          "height": 254
        },
        "id": "4UY4e6XjwmAn",
        "outputId": "af315a2e-d637-417f-d2c1-d058e8ef04f7"
      },
      "execution_count": null,
      "outputs": [
        {
          "output_type": "display_data",
          "data": {
            "image/jpeg": "[encoded data removed]",
            "text/plain": [
              "<IPython.core.display.Image object>"
            ]
          },
          "metadata": {}
        }
      ]
    },
    {
      "cell_type": "code",
      "source": [
        "runnable.invoke(\"hi\")"
      ],
      "metadata": {
        "colab": {
          "base_uri": "https://localhost:8080/"
        },
        "id": "1nQJgcAPyxyf",
        "outputId": "de3210af-a2c5-48d3-f7fd-0352d88dfdaf"
      },
      "execution_count": null,
      "outputs": [
        {
          "output_type": "stream",
          "name": "stdout",
          "text": [
            "Action Taken: ['hi']\n",
            "Action Taken: ['hi', 'continue']\n",
            "Action Taken: ['hi', 'continue', 'continue']\n",
            "Action Taken: ['hi', 'continue', 'continue', 'continue']\n",
            "Action Taken: ['hi', 'continue', 'continue', 'continue', 'continue']\n"
          ]
        },
        {
          "output_type": "execute_result",
          "data": {
            "text/plain": [
              "[HumanMessage(content='hi', id='2f27606c-255e-4e66-b852-7448122367de'),\n",
              " HumanMessage(content='continue', id='78e5109e-e29c-4640-8081-920ef82b55e7'),\n",
              " HumanMessage(content='continue', id='09471ed5-3c3b-4c7c-a4c5-fb7092e7fdaf'),\n",
              " HumanMessage(content='continue', id='58631189-3d0f-455b-8be2-b5037e62f57a'),\n",
              " HumanMessage(content='continue', id='0fb9ecc1-fd8b-41c5-be77-781792f525e0'),\n",
              " HumanMessage(content='end', id='90e3ac95-3bcf-4f79-bbf9-1b88a469a7e4')]"
            ]
          },
          "metadata": {},
          "execution_count": 36
        }
      ]
    },
    {
      "cell_type": "markdown",
      "source": [
        "## Actual Agents using LangGraph"
      ],
      "metadata": {
        "id": "rEYcKTct3K0E"
      }
    },
    {
      "cell_type": "code",
      "source": [
        "import os\n",
        "import random\n",
        "\n",
        "from langchain_groq import ChatGroq\n",
        "from langchain_openai import ChatOpenAI\n",
        "\n",
        "# Import things that are needed generically\n",
        "from langchain_core.pydantic_v1 import BaseModel, Field\n",
        "from langchain_core.tools import StructuredTool, tool\n",
        "\n",
        "import operator\n",
        "from typing import Annotated, TypedDict, Union, Sequence\n",
        "\n",
        "from langchain_core.agents import AgentAction, AgentFinish\n",
        "from langchain_core.messages import BaseMessage, ToolMessage, SystemMessage, HumanMessage\n",
        "from langchain.prompts import PromptTemplate, ChatPromptTemplate\n",
        "\n",
        "\n",
        "from langgraph.prebuilt import ToolInvocation\n",
        "from langgraph.prebuilt.tool_executor import ToolExecutor\n",
        "from langgraph.graph import END, StateGraph"
      ],
      "metadata": {
        "id": "SVFlkpyk3q1T"
      },
      "execution_count": null,
      "outputs": []
    },
    {
      "cell_type": "code",
      "source": [
        "# Langsmith tracing\n",
        "os.environ[\"LANGCHAIN_TRACING_V2\"] = \"true\"\n",
        "os.environ[\"LANGCHAIN_ENDPOINT\"] = \"https://api.smith.langchain.com\"\n",
        "os.environ[\"LANGCHAIN_API_KEY\"] = userdata.get('LANGCHAIN_API_KEY')\n",
        "os.environ[\"LANGCHAIN_PROJECT\"] = \"pr-trustworthy-green-6\"\n"
      ],
      "metadata": {
        "id": "jleGbR_qFDVM"
      },
      "execution_count": null,
      "outputs": []
    },
    {
      "cell_type": "code",
      "source": [
        "# Groq model\n",
        "os.environ[\"GROQ_API_KEY\"] = userdata.get('GROQ_API_KEY')\n",
        "os.environ[\"OPENAI_API_KEY\"] = userdata.get('OPENAI_API_KEY')\n",
        "\n",
        "model = ChatGroq(model=\"llama3-8b-8192\")\n",
        "# model = ChatOpenAI(model=\"gpt-3.5-turbo-0125\")"
      ],
      "metadata": {
        "id": "xeXOwqlE3PoO"
      },
      "execution_count": null,
      "outputs": []
    },
    {
      "cell_type": "code",
      "source": [
        "# prompt: write a function that gives the actual answer only 1 out of 3 times. Rest of the times it gives the output \"Service Unavailable\"\n",
        "\n",
        "class WeatherApiInput(BaseModel):\n",
        "    location: str = Field(description=\"Location name\")\n",
        "\n",
        "\n",
        "class PopulationApiInput(BaseModel):\n",
        "    location: str = Field(description=\"Location name\")\n",
        "\n",
        "@tool(\"weather-api\", args_schema=WeatherApiInput, return_direct=True)\n",
        "def fake_weather_api(location):\n",
        "  \"\"\"\n",
        "  the function takes as input the location and gives details about the current weather there.\n",
        "  \"\"\"\n",
        "  if random.random() < 1/3:\n",
        "    # Calculate and return the actual answer here.\n",
        "    # Replace the following line with your actual answer calculation.\n",
        "    answer = \"Sunny\"\n",
        "    return answer\n",
        "  else:\n",
        "    return \"Service Unavailable\"\n",
        "\n",
        "\n",
        "@tool(\"population-api\", args_schema=PopulationApiInput, return_direct=True)\n",
        "def fake_population_api(location):\n",
        "    \"\"\"\n",
        "    the function takes as input the location and gives details about the population there.\n",
        "    \"\"\"\n",
        "    if random.random() < 1/3:\n",
        "        # Calculate and return the actual answer here.\n",
        "        # Replace the following line with your actual answer calculation.\n",
        "        answer = 100000\n",
        "        return answer\n",
        "    else:\n",
        "        return \"Service Unavailable\"\n",
        "\n",
        "# Example usage:\n",
        "input = \"Chennai\"\n",
        "answer = fake_weather_api.invoke(input)\n",
        "print(answer)\n",
        "answer = fake_population_api.invoke(input)\n",
        "print(answer)\n"
      ],
      "metadata": {
        "id": "ZiWiwFIR3Nzt",
        "colab": {
          "base_uri": "https://localhost:8080/"
        },
        "outputId": "9a6bcd3d-9532-4605-e715-5bea6d07c97c"
      },
      "execution_count": null,
      "outputs": [
        {
          "output_type": "stream",
          "name": "stdout",
          "text": [
            "Sunny\n",
            "100000\n"
          ]
        }
      ]
    },
    {
      "cell_type": "code",
      "source": [
        "# Let's inspect some of the attributes associated with the tool.\n",
        "print(fake_weather_api.name)\n",
        "print(fake_weather_api.description)\n",
        "print(fake_weather_api.args)\n",
        "print(fake_weather_api.return_direct)"
      ],
      "metadata": {
        "id": "faAlvRCP3Nwc",
        "colab": {
          "base_uri": "https://localhost:8080/"
        },
        "outputId": "39a7e973-2377-4911-d4b4-3b3f456b0acb"
      },
      "execution_count": null,
      "outputs": [
        {
          "output_type": "stream",
          "name": "stdout",
          "text": [
            "weather-api\n",
            "the function takes as input the location and gives details about the current weather there.\n",
            "{'location': {'title': 'Location', 'description': 'Location name', 'type': 'string'}}\n",
            "True\n"
          ]
        }
      ]
    },
    {
      "cell_type": "code",
      "source": [
        "tools = [fake_weather_api, fake_population_api]\n",
        "tool_executor = ToolExecutor(tools=tools)"
      ],
      "metadata": {
        "id": "YNBQUC0H3cWz"
      },
      "execution_count": null,
      "outputs": []
    },
    {
      "cell_type": "code",
      "source": [
        "llm_with_tools = model.bind_tools(tools=[fake_weather_api, fake_population_api])"
      ],
      "metadata": {
        "id": "U1b8JiLy3Nqt"
      },
      "execution_count": null,
      "outputs": []
    },
    {
      "cell_type": "code",
      "source": [
        "query = \"Whats the population of Coimbatore? and how is the weather there?\"\n",
        "messages = [HumanMessage(content=query)]\n",
        "\n",
        "response = llm_with_tools.invoke(messages)\n",
        "\n",
        "response.content = \" \"\n",
        "messages.append(response)\n",
        "\n",
        "print(response.tool_calls)"
      ],
      "metadata": {
        "id": "Rfgn36KI3Nnt",
        "colab": {
          "base_uri": "https://localhost:8080/"
        },
        "outputId": "df0cd37b-4cb3-47be-c654-3bd9bfc6491f"
      },
      "execution_count": null,
      "outputs": [
        {
          "output_type": "stream",
          "name": "stdout",
          "text": [
            "[{'name': 'population-api', 'args': {'location': 'Chennai'}, 'id': 'call_jfqk'}, {'name': 'weather-api', 'args': {'location': 'Chennai'}, 'id': 'call_ew5z'}]\n"
          ]
        }
      ]
    },
    {
      "cell_type": "code",
      "source": [
        "# response.additional_kwargs[\"tool_calls\"][0][\"function\"][\"name\"]\n",
        "for tool_call in response.tool_calls:\n",
        "    tool_action = ToolInvocation(\n",
        "        tool=tool_call[\"name\"],\n",
        "        tool_input=tool_call[\"args\"]\n",
        "    )\n",
        "    tool_response = tool_executor.invoke(tool_action)\n",
        "    messages.append(ToolMessage(content=tool_response, tool_call_id=tool_call[\"id\"]))\n",
        "\n",
        "    # print(f\"{tool_response=}\")\n",
        "\n",
        "messages"
      ],
      "metadata": {
        "colab": {
          "base_uri": "https://localhost:8080/"
        },
        "id": "tn_h8G0N7gs0",
        "outputId": "4f498538-40eb-4bb7-c371-251e40b8f7ea"
      },
      "execution_count": null,
      "outputs": [
        {
          "output_type": "execute_result",
          "data": {
            "text/plain": [
              "[HumanMessage(content='Whats the population of Chennai? and how is the weather there?'),\n",
              " AIMessage(content=' ', additional_kwargs={'tool_calls': [{'id': 'call_jfqk', 'function': {'arguments': '{\"location\":\"Chennai\"}', 'name': 'population-api'}, 'type': 'function'}, {'id': 'call_ew5z', 'function': {'arguments': '{\"location\":\"Chennai\"}', 'name': 'weather-api'}, 'type': 'function'}]}, response_metadata={'token_usage': {'completion_tokens': 115, 'prompt_tokens': 1040, 'total_tokens': 1155, 'completion_time': 0.090135671, 'prompt_time': 0.231213148, 'queue_time': None, 'total_time': 0.321348819}, 'model_name': 'llama3-8b-8192', 'system_fingerprint': 'fp_af05557ca2', 'finish_reason': 'tool_calls', 'logprobs': None}, id='run-cf0c6453-e486-4015-b7f3-78d9a8ef1dbf-0', tool_calls=[{'name': 'population-api', 'args': {'location': 'Chennai'}, 'id': 'call_jfqk'}, {'name': 'weather-api', 'args': {'location': 'Chennai'}, 'id': 'call_ew5z'}]),\n",
              " ToolMessage(content='100000', tool_call_id='call_jfqk'),\n",
              " ToolMessage(content='Sunny', tool_call_id='call_ew5z')]"
            ]
          },
          "metadata": {},
          "execution_count": 136
        }
      ]
    },
    {
      "cell_type": "code",
      "source": [
        "final_response = llm_with_tools.invoke(messages)\n",
        "print(final_response.content)"
      ],
      "metadata": {
        "colab": {
          "base_uri": "https://localhost:8080/"
        },
        "id": "-K-NW4pyMEr4",
        "outputId": "f4e3343a-0990-4ccf-b25a-ec0f56f379a7"
      },
      "execution_count": null,
      "outputs": [
        {
          "output_type": "stream",
          "name": "stdout",
          "text": [
            "The population of Chennai is 100000 and the weather is Sunny.\n"
          ]
        }
      ]
    },
    {
      "cell_type": "code",
      "source": [
        "final_response"
      ],
      "metadata": {
        "colab": {
          "base_uri": "https://localhost:8080/"
        },
        "id": "TFnDm59ZKJnW",
        "outputId": "e4244b21-c51c-4cb4-c1c9-0f713dee67c9"
      },
      "execution_count": null,
      "outputs": [
        {
          "output_type": "execute_result",
          "data": {
            "text/plain": [
              "AIMessage(content='', additional_kwargs={'tool_calls': [{'id': 'call_4gp0', 'function': {'arguments': '{\"location\":\"Chennai\"}', 'name': 'population-api'}, 'type': 'function'}, {'id': 'call_17t8', 'function': {'arguments': '{\"location\":\"Chennai\"}', 'name': 'weather-api'}, 'type': 'function'}]}, response_metadata={'token_usage': {'completion_tokens': 129, 'prompt_tokens': 1098, 'total_tokens': 1227, 'completion_time': 0.10160065, 'prompt_time': 0.164424614, 'queue_time': None, 'total_time': 0.266025264}, 'model_name': 'llama3-8b-8192', 'system_fingerprint': 'fp_af05557ca2', 'finish_reason': 'tool_calls', 'logprobs': None}, id='run-bdf8ef41-4f61-4fcc-a097-2731a91e4169-0', tool_calls=[{'name': 'population-api', 'args': {'location': 'Chennai'}, 'id': 'call_4gp0'}, {'name': 'weather-api', 'args': {'location': 'Chennai'}, 'id': 'call_17t8'}])"
            ]
          },
          "metadata": {},
          "execution_count": 134
        }
      ]
    },
    {
      "cell_type": "code",
      "source": [
        "class AgentState(TypedDict):\n",
        "    messages: Annotated[Sequence[BaseMessage], operator.add]\n",
        "\n",
        "def call_agent(state: AgentState):\n",
        "    chat_history = state[\"messages\"]\n",
        "    agent_response = llm_with_tools.invoke(chat_history)\n",
        "    return { \"messages\": [agent_response] }\n",
        "\n",
        "\n",
        "def execute_tool(state: AgentState):\n",
        "    last_message = state[\"messages\"][-1]\n",
        "\n",
        "    all_tool_responses = []\n",
        "    for tool_call in last_message.tool_calls:\n",
        "        tool_action = ToolInvocation(\n",
        "            tool=tool_call[\"name\"],\n",
        "            tool_input=tool_call[\"args\"]\n",
        "        )\n",
        "        tool_response = tool_executor.invoke(tool_action)\n",
        "        all_tool_responses.append(ToolMessage(content=tool_response, tool_call_id=tool_call[\"id\"]))\n",
        "\n",
        "    return { \"messages\": all_tool_responses }\n",
        "\n",
        "\n",
        "def should_continue(state: AgentState):\n",
        "    print(f\"{state=}\")\n",
        "    last_message = state[\"messages\"][-1]\n",
        "\n",
        "    if not last_message.tool_calls:\n",
        "        return \"end\"\n",
        "\n",
        "    return \"continue\"\n",
        "\n",
        "\n",
        "graph = StateGraph(AgentState)\n",
        "\n",
        "graph.add_node(\"agent\", call_agent)\n",
        "graph.add_node(\"execute_tool\", execute_tool)\n",
        "graph.add_conditional_edges(\n",
        "    \"agent\",\n",
        "    should_continue,\n",
        "    {\"continue\": \"execute_tool\", \"end\": END}\n",
        ")\n",
        "graph.add_edge(\"execute_tool\", \"agent\")\n",
        "graph.set_entry_point(\"agent\")\n",
        "\n",
        "agent = graph.compile()\n",
        "\n",
        "display_graph(agent)"
      ],
      "metadata": {
        "colab": {
          "base_uri": "https://localhost:8080/",
          "height": 254
        },
        "id": "mcamiquNuaAs",
        "outputId": "940af2f3-6de0-493a-cf02-5499b343bf20"
      },
      "execution_count": null,
      "outputs": [
        {
          "output_type": "display_data",
          "data": {
            "image/jpeg": "[encoded data removed]",
            "text/plain": [
              "<IPython.core.display.Image object>"
            ]
          },
          "metadata": {}
        }
      ]
    },
    {
      "cell_type": "code",
      "source": [
        "system_message = SystemMessage(content=\"You are a useful assistant. You have access to some tools to answer user query. You try to get the answer from the tools. If the tools don't give an answer, try again and get the answer.\")\n",
        "human_message = HumanMessage(content=\"What is the weather like in Mumbai\")\n",
        "\n",
        "messages = [system_message, human_message]\n",
        "\n",
        "agent.invoke({ \"messages\": messages })"
      ],
      "metadata": {
        "colab": {
          "base_uri": "https://localhost:8080/"
        },
        "id": "yvxMf-dGwm93",
        "outputId": "7c3f1753-1268-4827-de9e-aa7682968e9c"
      },
      "execution_count": null,
      "outputs": [
        {
          "output_type": "stream",
          "name": "stdout",
          "text": [
            "state={'messages': [SystemMessage(content=\"You are a useful assistant. You have access to some tools to answer user query. You try to get the answer from the tools. If the tools don't give an answer, try again and get the answer.\"), HumanMessage(content='What is the weather like in Mumbai'), AIMessage(content='', additional_kwargs={'tool_calls': [{'id': 'call_8rvy', 'function': {'arguments': '{\"location\":\"Mumbai\"}', 'name': 'weather-api'}, 'type': 'function'}]}, response_metadata={'token_usage': {'completion_tokens': 67, 'prompt_tokens': 1080, 'total_tokens': 1147, 'completion_time': 0.052651892, 'prompt_time': 0.192281716, 'queue_time': None, 'total_time': 0.244933608}, 'model_name': 'llama3-8b-8192', 'system_fingerprint': 'fp_a97cfe35ae', 'finish_reason': 'tool_calls', 'logprobs': None}, id='run-6658d219-7d2a-4f4e-8788-6c1e9976885c-0', tool_calls=[{'name': 'weather-api', 'args': {'location': 'Mumbai'}, 'id': 'call_8rvy'}])]}\n",
            "state={'messages': [SystemMessage(content=\"You are a useful assistant. You have access to some tools to answer user query. You try to get the answer from the tools. If the tools don't give an answer, try again and get the answer.\"), HumanMessage(content='What is the weather like in Mumbai'), AIMessage(content='', additional_kwargs={'tool_calls': [{'id': 'call_8rvy', 'function': {'arguments': '{\"location\":\"Mumbai\"}', 'name': 'weather-api'}, 'type': 'function'}]}, response_metadata={'token_usage': {'completion_tokens': 67, 'prompt_tokens': 1080, 'total_tokens': 1147, 'completion_time': 0.052651892, 'prompt_time': 0.192281716, 'queue_time': None, 'total_time': 0.244933608}, 'model_name': 'llama3-8b-8192', 'system_fingerprint': 'fp_a97cfe35ae', 'finish_reason': 'tool_calls', 'logprobs': None}, id='run-6658d219-7d2a-4f4e-8788-6c1e9976885c-0', tool_calls=[{'name': 'weather-api', 'args': {'location': 'Mumbai'}, 'id': 'call_8rvy'}]), ToolMessage(content='Service Unavailable', tool_call_id='call_8rvy'), AIMessage(content='', additional_kwargs={'tool_calls': [{'id': 'call_tv0t', 'function': {'arguments': '{\"location\":\"Mumbai\"}', 'name': 'weather-api'}, 'type': 'function'}]}, response_metadata={'token_usage': {'completion_tokens': 34, 'prompt_tokens': 1148, 'total_tokens': 1182, 'completion_time': 0.026285581, 'prompt_time': 0.200911006, 'queue_time': None, 'total_time': 0.227196587}, 'model_name': 'llama3-8b-8192', 'system_fingerprint': 'fp_af05557ca2', 'finish_reason': 'tool_calls', 'logprobs': None}, id='run-b438ad0f-cda1-465c-b0d1-b11b456990c1-0', tool_calls=[{'name': 'weather-api', 'args': {'location': 'Mumbai'}, 'id': 'call_tv0t'}])]}\n",
            "state={'messages': [SystemMessage(content=\"You are a useful assistant. You have access to some tools to answer user query. You try to get the answer from the tools. If the tools don't give an answer, try again and get the answer.\"), HumanMessage(content='What is the weather like in Mumbai'), AIMessage(content='', additional_kwargs={'tool_calls': [{'id': 'call_8rvy', 'function': {'arguments': '{\"location\":\"Mumbai\"}', 'name': 'weather-api'}, 'type': 'function'}]}, response_metadata={'token_usage': {'completion_tokens': 67, 'prompt_tokens': 1080, 'total_tokens': 1147, 'completion_time': 0.052651892, 'prompt_time': 0.192281716, 'queue_time': None, 'total_time': 0.244933608}, 'model_name': 'llama3-8b-8192', 'system_fingerprint': 'fp_a97cfe35ae', 'finish_reason': 'tool_calls', 'logprobs': None}, id='run-6658d219-7d2a-4f4e-8788-6c1e9976885c-0', tool_calls=[{'name': 'weather-api', 'args': {'location': 'Mumbai'}, 'id': 'call_8rvy'}]), ToolMessage(content='Service Unavailable', tool_call_id='call_8rvy'), AIMessage(content='', additional_kwargs={'tool_calls': [{'id': 'call_tv0t', 'function': {'arguments': '{\"location\":\"Mumbai\"}', 'name': 'weather-api'}, 'type': 'function'}]}, response_metadata={'token_usage': {'completion_tokens': 34, 'prompt_tokens': 1148, 'total_tokens': 1182, 'completion_time': 0.026285581, 'prompt_time': 0.200911006, 'queue_time': None, 'total_time': 0.227196587}, 'model_name': 'llama3-8b-8192', 'system_fingerprint': 'fp_af05557ca2', 'finish_reason': 'tool_calls', 'logprobs': None}, id='run-b438ad0f-cda1-465c-b0d1-b11b456990c1-0', tool_calls=[{'name': 'weather-api', 'args': {'location': 'Mumbai'}, 'id': 'call_tv0t'}]), ToolMessage(content='Service Unavailable', tool_call_id='call_tv0t'), AIMessage(content='', additional_kwargs={'tool_calls': [{'id': 'call_ybcq', 'function': {'arguments': '{\"location\":\"Mumbai\"}', 'name': 'weather-api'}, 'type': 'function'}]}, response_metadata={'token_usage': {'completion_tokens': 34, 'prompt_tokens': 1214, 'total_tokens': 1248, 'completion_time': 0.02646917, 'prompt_time': 0.199043142, 'queue_time': None, 'total_time': 0.225512312}, 'model_name': 'llama3-8b-8192', 'system_fingerprint': 'fp_a97cfe35ae', 'finish_reason': 'tool_calls', 'logprobs': None}, id='run-cff07caa-3ecd-49b1-a39c-52641130e5d6-0', tool_calls=[{'name': 'weather-api', 'args': {'location': 'Mumbai'}, 'id': 'call_ybcq'}])]}\n",
            "state={'messages': [SystemMessage(content=\"You are a useful assistant. You have access to some tools to answer user query. You try to get the answer from the tools. If the tools don't give an answer, try again and get the answer.\"), HumanMessage(content='What is the weather like in Mumbai'), AIMessage(content='', additional_kwargs={'tool_calls': [{'id': 'call_8rvy', 'function': {'arguments': '{\"location\":\"Mumbai\"}', 'name': 'weather-api'}, 'type': 'function'}]}, response_metadata={'token_usage': {'completion_tokens': 67, 'prompt_tokens': 1080, 'total_tokens': 1147, 'completion_time': 0.052651892, 'prompt_time': 0.192281716, 'queue_time': None, 'total_time': 0.244933608}, 'model_name': 'llama3-8b-8192', 'system_fingerprint': 'fp_a97cfe35ae', 'finish_reason': 'tool_calls', 'logprobs': None}, id='run-6658d219-7d2a-4f4e-8788-6c1e9976885c-0', tool_calls=[{'name': 'weather-api', 'args': {'location': 'Mumbai'}, 'id': 'call_8rvy'}]), ToolMessage(content='Service Unavailable', tool_call_id='call_8rvy'), AIMessage(content='', additional_kwargs={'tool_calls': [{'id': 'call_tv0t', 'function': {'arguments': '{\"location\":\"Mumbai\"}', 'name': 'weather-api'}, 'type': 'function'}]}, response_metadata={'token_usage': {'completion_tokens': 34, 'prompt_tokens': 1148, 'total_tokens': 1182, 'completion_time': 0.026285581, 'prompt_time': 0.200911006, 'queue_time': None, 'total_time': 0.227196587}, 'model_name': 'llama3-8b-8192', 'system_fingerprint': 'fp_af05557ca2', 'finish_reason': 'tool_calls', 'logprobs': None}, id='run-b438ad0f-cda1-465c-b0d1-b11b456990c1-0', tool_calls=[{'name': 'weather-api', 'args': {'location': 'Mumbai'}, 'id': 'call_tv0t'}]), ToolMessage(content='Service Unavailable', tool_call_id='call_tv0t'), AIMessage(content='', additional_kwargs={'tool_calls': [{'id': 'call_ybcq', 'function': {'arguments': '{\"location\":\"Mumbai\"}', 'name': 'weather-api'}, 'type': 'function'}]}, response_metadata={'token_usage': {'completion_tokens': 34, 'prompt_tokens': 1214, 'total_tokens': 1248, 'completion_time': 0.02646917, 'prompt_time': 0.199043142, 'queue_time': None, 'total_time': 0.225512312}, 'model_name': 'llama3-8b-8192', 'system_fingerprint': 'fp_a97cfe35ae', 'finish_reason': 'tool_calls', 'logprobs': None}, id='run-cff07caa-3ecd-49b1-a39c-52641130e5d6-0', tool_calls=[{'name': 'weather-api', 'args': {'location': 'Mumbai'}, 'id': 'call_ybcq'}]), ToolMessage(content='Service Unavailable', tool_call_id='call_ybcq'), AIMessage(content='', additional_kwargs={'tool_calls': [{'id': 'call_w5er', 'function': {'arguments': '{\"location\":\"Mumbai\"}', 'name': 'weather-api'}, 'type': 'function'}]}, response_metadata={'token_usage': {'completion_tokens': 57, 'prompt_tokens': 1280, 'total_tokens': 1337, 'completion_time': 0.044902351, 'prompt_time': 0.19485567, 'queue_time': None, 'total_time': 0.23975802100000002}, 'model_name': 'llama3-8b-8192', 'system_fingerprint': 'fp_a97cfe35ae', 'finish_reason': 'tool_calls', 'logprobs': None}, id='run-cf3b3a8a-941a-45b9-82db-9182c8db14fe-0', tool_calls=[{'name': 'weather-api', 'args': {'location': 'Mumbai'}, 'id': 'call_w5er'}])]}\n",
            "state={'messages': [SystemMessage(content=\"You are a useful assistant. You have access to some tools to answer user query. You try to get the answer from the tools. If the tools don't give an answer, try again and get the answer.\"), HumanMessage(content='What is the weather like in Mumbai'), AIMessage(content='', additional_kwargs={'tool_calls': [{'id': 'call_8rvy', 'function': {'arguments': '{\"location\":\"Mumbai\"}', 'name': 'weather-api'}, 'type': 'function'}]}, response_metadata={'token_usage': {'completion_tokens': 67, 'prompt_tokens': 1080, 'total_tokens': 1147, 'completion_time': 0.052651892, 'prompt_time': 0.192281716, 'queue_time': None, 'total_time': 0.244933608}, 'model_name': 'llama3-8b-8192', 'system_fingerprint': 'fp_a97cfe35ae', 'finish_reason': 'tool_calls', 'logprobs': None}, id='run-6658d219-7d2a-4f4e-8788-6c1e9976885c-0', tool_calls=[{'name': 'weather-api', 'args': {'location': 'Mumbai'}, 'id': 'call_8rvy'}]), ToolMessage(content='Service Unavailable', tool_call_id='call_8rvy'), AIMessage(content='', additional_kwargs={'tool_calls': [{'id': 'call_tv0t', 'function': {'arguments': '{\"location\":\"Mumbai\"}', 'name': 'weather-api'}, 'type': 'function'}]}, response_metadata={'token_usage': {'completion_tokens': 34, 'prompt_tokens': 1148, 'total_tokens': 1182, 'completion_time': 0.026285581, 'prompt_time': 0.200911006, 'queue_time': None, 'total_time': 0.227196587}, 'model_name': 'llama3-8b-8192', 'system_fingerprint': 'fp_af05557ca2', 'finish_reason': 'tool_calls', 'logprobs': None}, id='run-b438ad0f-cda1-465c-b0d1-b11b456990c1-0', tool_calls=[{'name': 'weather-api', 'args': {'location': 'Mumbai'}, 'id': 'call_tv0t'}]), ToolMessage(content='Service Unavailable', tool_call_id='call_tv0t'), AIMessage(content='', additional_kwargs={'tool_calls': [{'id': 'call_ybcq', 'function': {'arguments': '{\"location\":\"Mumbai\"}', 'name': 'weather-api'}, 'type': 'function'}]}, response_metadata={'token_usage': {'completion_tokens': 34, 'prompt_tokens': 1214, 'total_tokens': 1248, 'completion_time': 0.02646917, 'prompt_time': 0.199043142, 'queue_time': None, 'total_time': 0.225512312}, 'model_name': 'llama3-8b-8192', 'system_fingerprint': 'fp_a97cfe35ae', 'finish_reason': 'tool_calls', 'logprobs': None}, id='run-cff07caa-3ecd-49b1-a39c-52641130e5d6-0', tool_calls=[{'name': 'weather-api', 'args': {'location': 'Mumbai'}, 'id': 'call_ybcq'}]), ToolMessage(content='Service Unavailable', tool_call_id='call_ybcq'), AIMessage(content='', additional_kwargs={'tool_calls': [{'id': 'call_w5er', 'function': {'arguments': '{\"location\":\"Mumbai\"}', 'name': 'weather-api'}, 'type': 'function'}]}, response_metadata={'token_usage': {'completion_tokens': 57, 'prompt_tokens': 1280, 'total_tokens': 1337, 'completion_time': 0.044902351, 'prompt_time': 0.19485567, 'queue_time': None, 'total_time': 0.23975802100000002}, 'model_name': 'llama3-8b-8192', 'system_fingerprint': 'fp_a97cfe35ae', 'finish_reason': 'tool_calls', 'logprobs': None}, id='run-cf3b3a8a-941a-45b9-82db-9182c8db14fe-0', tool_calls=[{'name': 'weather-api', 'args': {'location': 'Mumbai'}, 'id': 'call_w5er'}]), ToolMessage(content='Service Unavailable', tool_call_id='call_w5er'), AIMessage(content='', additional_kwargs={'tool_calls': [{'id': 'call_3awe', 'function': {'arguments': '{\"location\":\"Mumbai\"}', 'name': 'weather-api'}, 'type': 'function'}]}, response_metadata={'token_usage': {'completion_tokens': 44, 'prompt_tokens': 1346, 'total_tokens': 1390, 'completion_time': 0.034365662, 'prompt_time': 0.264852512, 'queue_time': None, 'total_time': 0.299218174}, 'model_name': 'llama3-8b-8192', 'system_fingerprint': 'fp_179b0f92c9', 'finish_reason': 'tool_calls', 'logprobs': None}, id='run-4bf84863-6cd0-4e54-9406-2919e64f7e3e-0', tool_calls=[{'name': 'weather-api', 'args': {'location': 'Mumbai'}, 'id': 'call_3awe'}])]}\n",
            "state={'messages': [SystemMessage(content=\"You are a useful assistant. You have access to some tools to answer user query. You try to get the answer from the tools. If the tools don't give an answer, try again and get the answer.\"), HumanMessage(content='What is the weather like in Mumbai'), AIMessage(content='', additional_kwargs={'tool_calls': [{'id': 'call_8rvy', 'function': {'arguments': '{\"location\":\"Mumbai\"}', 'name': 'weather-api'}, 'type': 'function'}]}, response_metadata={'token_usage': {'completion_tokens': 67, 'prompt_tokens': 1080, 'total_tokens': 1147, 'completion_time': 0.052651892, 'prompt_time': 0.192281716, 'queue_time': None, 'total_time': 0.244933608}, 'model_name': 'llama3-8b-8192', 'system_fingerprint': 'fp_a97cfe35ae', 'finish_reason': 'tool_calls', 'logprobs': None}, id='run-6658d219-7d2a-4f4e-8788-6c1e9976885c-0', tool_calls=[{'name': 'weather-api', 'args': {'location': 'Mumbai'}, 'id': 'call_8rvy'}]), ToolMessage(content='Service Unavailable', tool_call_id='call_8rvy'), AIMessage(content='', additional_kwargs={'tool_calls': [{'id': 'call_tv0t', 'function': {'arguments': '{\"location\":\"Mumbai\"}', 'name': 'weather-api'}, 'type': 'function'}]}, response_metadata={'token_usage': {'completion_tokens': 34, 'prompt_tokens': 1148, 'total_tokens': 1182, 'completion_time': 0.026285581, 'prompt_time': 0.200911006, 'queue_time': None, 'total_time': 0.227196587}, 'model_name': 'llama3-8b-8192', 'system_fingerprint': 'fp_af05557ca2', 'finish_reason': 'tool_calls', 'logprobs': None}, id='run-b438ad0f-cda1-465c-b0d1-b11b456990c1-0', tool_calls=[{'name': 'weather-api', 'args': {'location': 'Mumbai'}, 'id': 'call_tv0t'}]), ToolMessage(content='Service Unavailable', tool_call_id='call_tv0t'), AIMessage(content='', additional_kwargs={'tool_calls': [{'id': 'call_ybcq', 'function': {'arguments': '{\"location\":\"Mumbai\"}', 'name': 'weather-api'}, 'type': 'function'}]}, response_metadata={'token_usage': {'completion_tokens': 34, 'prompt_tokens': 1214, 'total_tokens': 1248, 'completion_time': 0.02646917, 'prompt_time': 0.199043142, 'queue_time': None, 'total_time': 0.225512312}, 'model_name': 'llama3-8b-8192', 'system_fingerprint': 'fp_a97cfe35ae', 'finish_reason': 'tool_calls', 'logprobs': None}, id='run-cff07caa-3ecd-49b1-a39c-52641130e5d6-0', tool_calls=[{'name': 'weather-api', 'args': {'location': 'Mumbai'}, 'id': 'call_ybcq'}]), ToolMessage(content='Service Unavailable', tool_call_id='call_ybcq'), AIMessage(content='', additional_kwargs={'tool_calls': [{'id': 'call_w5er', 'function': {'arguments': '{\"location\":\"Mumbai\"}', 'name': 'weather-api'}, 'type': 'function'}]}, response_metadata={'token_usage': {'completion_tokens': 57, 'prompt_tokens': 1280, 'total_tokens': 1337, 'completion_time': 0.044902351, 'prompt_time': 0.19485567, 'queue_time': None, 'total_time': 0.23975802100000002}, 'model_name': 'llama3-8b-8192', 'system_fingerprint': 'fp_a97cfe35ae', 'finish_reason': 'tool_calls', 'logprobs': None}, id='run-cf3b3a8a-941a-45b9-82db-9182c8db14fe-0', tool_calls=[{'name': 'weather-api', 'args': {'location': 'Mumbai'}, 'id': 'call_w5er'}]), ToolMessage(content='Service Unavailable', tool_call_id='call_w5er'), AIMessage(content='', additional_kwargs={'tool_calls': [{'id': 'call_3awe', 'function': {'arguments': '{\"location\":\"Mumbai\"}', 'name': 'weather-api'}, 'type': 'function'}]}, response_metadata={'token_usage': {'completion_tokens': 44, 'prompt_tokens': 1346, 'total_tokens': 1390, 'completion_time': 0.034365662, 'prompt_time': 0.264852512, 'queue_time': None, 'total_time': 0.299218174}, 'model_name': 'llama3-8b-8192', 'system_fingerprint': 'fp_179b0f92c9', 'finish_reason': 'tool_calls', 'logprobs': None}, id='run-4bf84863-6cd0-4e54-9406-2919e64f7e3e-0', tool_calls=[{'name': 'weather-api', 'args': {'location': 'Mumbai'}, 'id': 'call_3awe'}]), ToolMessage(content='Sunny', tool_call_id='call_3awe'), AIMessage(content='Sunny!', response_metadata={'token_usage': {'completion_tokens': 4, 'prompt_tokens': 1410, 'total_tokens': 1414, 'completion_time': 0.002405371, 'prompt_time': 0.378434285, 'queue_time': None, 'total_time': 0.38083965599999997}, 'model_name': 'llama3-8b-8192', 'system_fingerprint': 'fp_873a560973', 'finish_reason': 'stop', 'logprobs': None}, id='run-3b26aa78-350b-4646-935c-32e2ea0b3339-0')]}\n"
          ]
        },
        {
          "output_type": "execute_result",
          "data": {
            "text/plain": [
              "{'messages': [SystemMessage(content=\"You are a useful assistant. You have access to some tools to answer user query. You try to get the answer from the tools. If the tools don't give an answer, try again and get the answer.\"),\n",
              "  HumanMessage(content='What is the weather like in Mumbai'),\n",
              "  AIMessage(content='', additional_kwargs={'tool_calls': [{'id': 'call_8rvy', 'function': {'arguments': '{\"location\":\"Mumbai\"}', 'name': 'weather-api'}, 'type': 'function'}]}, response_metadata={'token_usage': {'completion_tokens': 67, 'prompt_tokens': 1080, 'total_tokens': 1147, 'completion_time': 0.052651892, 'prompt_time': 0.192281716, 'queue_time': None, 'total_time': 0.244933608}, 'model_name': 'llama3-8b-8192', 'system_fingerprint': 'fp_a97cfe35ae', 'finish_reason': 'tool_calls', 'logprobs': None}, id='run-6658d219-7d2a-4f4e-8788-6c1e9976885c-0', tool_calls=[{'name': 'weather-api', 'args': {'location': 'Mumbai'}, 'id': 'call_8rvy'}]),\n",
              "  ToolMessage(content='Service Unavailable', tool_call_id='call_8rvy'),\n",
              "  AIMessage(content='', additional_kwargs={'tool_calls': [{'id': 'call_tv0t', 'function': {'arguments': '{\"location\":\"Mumbai\"}', 'name': 'weather-api'}, 'type': 'function'}]}, response_metadata={'token_usage': {'completion_tokens': 34, 'prompt_tokens': 1148, 'total_tokens': 1182, 'completion_time': 0.026285581, 'prompt_time': 0.200911006, 'queue_time': None, 'total_time': 0.227196587}, 'model_name': 'llama3-8b-8192', 'system_fingerprint': 'fp_af05557ca2', 'finish_reason': 'tool_calls', 'logprobs': None}, id='run-b438ad0f-cda1-465c-b0d1-b11b456990c1-0', tool_calls=[{'name': 'weather-api', 'args': {'location': 'Mumbai'}, 'id': 'call_tv0t'}]),\n",
              "  ToolMessage(content='Service Unavailable', tool_call_id='call_tv0t'),\n",
              "  AIMessage(content='', additional_kwargs={'tool_calls': [{'id': 'call_ybcq', 'function': {'arguments': '{\"location\":\"Mumbai\"}', 'name': 'weather-api'}, 'type': 'function'}]}, response_metadata={'token_usage': {'completion_tokens': 34, 'prompt_tokens': 1214, 'total_tokens': 1248, 'completion_time': 0.02646917, 'prompt_time': 0.199043142, 'queue_time': None, 'total_time': 0.225512312}, 'model_name': 'llama3-8b-8192', 'system_fingerprint': 'fp_a97cfe35ae', 'finish_reason': 'tool_calls', 'logprobs': None}, id='run-cff07caa-3ecd-49b1-a39c-52641130e5d6-0', tool_calls=[{'name': 'weather-api', 'args': {'location': 'Mumbai'}, 'id': 'call_ybcq'}]),\n",
              "  ToolMessage(content='Service Unavailable', tool_call_id='call_ybcq'),\n",
              "  AIMessage(content='', additional_kwargs={'tool_calls': [{'id': 'call_w5er', 'function': {'arguments': '{\"location\":\"Mumbai\"}', 'name': 'weather-api'}, 'type': 'function'}]}, response_metadata={'token_usage': {'completion_tokens': 57, 'prompt_tokens': 1280, 'total_tokens': 1337, 'completion_time': 0.044902351, 'prompt_time': 0.19485567, 'queue_time': None, 'total_time': 0.23975802100000002}, 'model_name': 'llama3-8b-8192', 'system_fingerprint': 'fp_a97cfe35ae', 'finish_reason': 'tool_calls', 'logprobs': None}, id='run-cf3b3a8a-941a-45b9-82db-9182c8db14fe-0', tool_calls=[{'name': 'weather-api', 'args': {'location': 'Mumbai'}, 'id': 'call_w5er'}]),\n",
              "  ToolMessage(content='Service Unavailable', tool_call_id='call_w5er'),\n",
              "  AIMessage(content='', additional_kwargs={'tool_calls': [{'id': 'call_3awe', 'function': {'arguments': '{\"location\":\"Mumbai\"}', 'name': 'weather-api'}, 'type': 'function'}]}, response_metadata={'token_usage': {'completion_tokens': 44, 'prompt_tokens': 1346, 'total_tokens': 1390, 'completion_time': 0.034365662, 'prompt_time': 0.264852512, 'queue_time': None, 'total_time': 0.299218174}, 'model_name': 'llama3-8b-8192', 'system_fingerprint': 'fp_179b0f92c9', 'finish_reason': 'tool_calls', 'logprobs': None}, id='run-4bf84863-6cd0-4e54-9406-2919e64f7e3e-0', tool_calls=[{'name': 'weather-api', 'args': {'location': 'Mumbai'}, 'id': 'call_3awe'}]),\n",
              "  ToolMessage(content='Sunny', tool_call_id='call_3awe'),\n",
              "  AIMessage(content='Sunny!', response_metadata={'token_usage': {'completion_tokens': 4, 'prompt_tokens': 1410, 'total_tokens': 1414, 'completion_time': 0.002405371, 'prompt_time': 0.378434285, 'queue_time': None, 'total_time': 0.38083965599999997}, 'model_name': 'llama3-8b-8192', 'system_fingerprint': 'fp_873a560973', 'finish_reason': 'stop', 'logprobs': None}, id='run-3b26aa78-350b-4646-935c-32e2ea0b3339-0')]}"
            ]
          },
          "metadata": {},
          "execution_count": 15
        }
      ]
    },
    {
      "cell_type": "code",
      "source": [],
      "metadata": {
        "id": "dE-uTASxy_dI"
      },
      "execution_count": null,
      "outputs": []
    }
  ]
}