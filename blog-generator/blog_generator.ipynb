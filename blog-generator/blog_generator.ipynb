{
  "nbformat": 4,
  "nbformat_minor": 0,
  "metadata": {
    "colab": {
      "provenance": [],
      "authorship_tag": "ABX9TyNiMnRjPzKqFqNIdU5yhUGx",
      "include_colab_link": true
    },
    "kernelspec": {
      "name": "python3",
      "display_name": "Python 3"
    },
    "language_info": {
      "name": "python"
    }
  },
  "cells": [
    {
      "cell_type": "markdown",
      "metadata": {
        "id": "view-in-github",
        "colab_type": "text"
      },
      "source": [
        "<a href=\"https://colab.research.google.com/github/ssreeramj/langgraph-tutorials/blob/main/blog-generator/blog_generator.ipynb\" target=\"_parent\"><img src=\"https://colab.research.google.com/assets/colab-badge.svg\" alt=\"Open In Colab\"/></a>"
      ]
    },
    {
      "cell_type": "markdown",
      "source": [
        "# Installation"
      ],
      "metadata": {
        "id": "doAAE_3B0iPx"
      }
    },
    {
      "cell_type": "code",
      "execution_count": null,
      "metadata": {
        "colab": {
          "base_uri": "https://localhost:8080/"
        },
        "id": "2sDiGgQG0dHX",
        "outputId": "6e80728d-99e0-4c30-996f-d0eaabf099e1"
      },
      "outputs": [
        {
          "output_type": "stream",
          "name": "stdout",
          "text": [
            "\u001b[2K     \u001b[90m━━━━━━━━━━━━━━━━━━━━━━━━━━━━━━━━━━━━━━━━\u001b[0m \u001b[32m975.5/975.5 kB\u001b[0m \u001b[31m13.3 MB/s\u001b[0m eta \u001b[36m0:00:00\u001b[0m\n",
            "\u001b[2K     \u001b[90m━━━━━━━━━━━━━━━━━━━━━━━━━━━━━━━━━━━━━━━━\u001b[0m \u001b[32m89.0/89.0 kB\u001b[0m \u001b[31m8.3 MB/s\u001b[0m eta \u001b[36m0:00:00\u001b[0m\n",
            "\u001b[2K     \u001b[90m━━━━━━━━━━━━━━━━━━━━━━━━━━━━━━━━━━━━━━━━\u001b[0m \u001b[32m328.3/328.3 kB\u001b[0m \u001b[31m28.3 MB/s\u001b[0m eta \u001b[36m0:00:00\u001b[0m\n",
            "\u001b[2K     \u001b[90m━━━━━━━━━━━━━━━━━━━━━━━━━━━━━━━━━━━━━━━━\u001b[0m \u001b[32m45.9/45.9 kB\u001b[0m \u001b[31m4.9 MB/s\u001b[0m eta \u001b[36m0:00:00\u001b[0m\n",
            "\u001b[2K     \u001b[90m━━━━━━━━━━━━━━━━━━━━━━━━━━━━━━━━━━━━━━━━\u001b[0m \u001b[32m2.2/2.2 MB\u001b[0m \u001b[31m49.2 MB/s\u001b[0m eta \u001b[36m0:00:00\u001b[0m\n",
            "\u001b[2K     \u001b[90m━━━━━━━━━━━━━━━━━━━━━━━━━━━━━━━━━━━━━━━━\u001b[0m \u001b[32m559.5/559.5 kB\u001b[0m \u001b[31m38.1 MB/s\u001b[0m eta \u001b[36m0:00:00\u001b[0m\n",
            "\u001b[2K     \u001b[90m━━━━━━━━━━━━━━━━━━━━━━━━━━━━━━━━━━━━━━━━\u001b[0m \u001b[32m337.4/337.4 kB\u001b[0m \u001b[31m27.0 MB/s\u001b[0m eta \u001b[36m0:00:00\u001b[0m\n",
            "\u001b[2K     \u001b[90m━━━━━━━━━━━━━━━━━━━━━━━━━━━━━━━━━━━━━━━━\u001b[0m \u001b[32m127.5/127.5 kB\u001b[0m \u001b[31m10.7 MB/s\u001b[0m eta \u001b[36m0:00:00\u001b[0m\n",
            "\u001b[2K     \u001b[90m━━━━━━━━━━━━━━━━━━━━━━━━━━━━━━━━━━━━━━━━\u001b[0m \u001b[32m75.6/75.6 kB\u001b[0m \u001b[31m8.1 MB/s\u001b[0m eta \u001b[36m0:00:00\u001b[0m\n",
            "\u001b[2K     \u001b[90m━━━━━━━━━━━━━━━━━━━━━━━━━━━━━━━━━━━━━━━━\u001b[0m \u001b[32m103.5/103.5 kB\u001b[0m \u001b[31m9.5 MB/s\u001b[0m eta \u001b[36m0:00:00\u001b[0m\n",
            "\u001b[2K     \u001b[90m━━━━━━━━━━━━━━━━━━━━━━━━━━━━━━━━━━━━━━━━\u001b[0m \u001b[32m1.1/1.1 MB\u001b[0m \u001b[31m35.3 MB/s\u001b[0m eta \u001b[36m0:00:00\u001b[0m\n",
            "\u001b[2K     \u001b[90m━━━━━━━━━━━━━━━━━━━━━━━━━━━━━━━━━━━━━━━━\u001b[0m \u001b[32m2.7/2.7 MB\u001b[0m \u001b[31m48.3 MB/s\u001b[0m eta \u001b[36m0:00:00\u001b[0m\n",
            "\u001b[2K     \u001b[90m━━━━━━━━━━━━━━━━━━━━━━━━━━━━━━━━━━━━━━━━\u001b[0m \u001b[32m2.4/2.4 MB\u001b[0m \u001b[31m61.4 MB/s\u001b[0m eta \u001b[36m0:00:00\u001b[0m\n",
            "\u001b[2K     \u001b[90m━━━━━━━━━━━━━━━━━━━━━━━━━━━━━━━━━━━━━━━━\u001b[0m \u001b[32m92.0/92.0 kB\u001b[0m \u001b[31m9.0 MB/s\u001b[0m eta \u001b[36m0:00:00\u001b[0m\n",
            "\u001b[2K     \u001b[90m━━━━━━━━━━━━━━━━━━━━━━━━━━━━━━━━━━━━━━━━\u001b[0m \u001b[32m62.4/62.4 kB\u001b[0m \u001b[31m5.8 MB/s\u001b[0m eta \u001b[36m0:00:00\u001b[0m\n",
            "\u001b[2K     \u001b[90m━━━━━━━━━━━━━━━━━━━━━━━━━━━━━━━━━━━━━━━━\u001b[0m \u001b[32m41.3/41.3 kB\u001b[0m \u001b[31m4.1 MB/s\u001b[0m eta \u001b[36m0:00:00\u001b[0m\n",
            "\u001b[2K     \u001b[90m━━━━━━━━━━━━━━━━━━━━━━━━━━━━━━━━━━━━━━━━\u001b[0m \u001b[32m6.8/6.8 MB\u001b[0m \u001b[31m55.1 MB/s\u001b[0m eta \u001b[36m0:00:00\u001b[0m\n",
            "\u001b[2K     \u001b[90m━━━━━━━━━━━━━━━━━━━━━━━━━━━━━━━━━━━━━━━━\u001b[0m \u001b[32m59.9/59.9 kB\u001b[0m \u001b[31m6.5 MB/s\u001b[0m eta \u001b[36m0:00:00\u001b[0m\n",
            "\u001b[2K     \u001b[90m━━━━━━━━━━━━━━━━━━━━━━━━━━━━━━━━━━━━━━━━\u001b[0m \u001b[32m107.0/107.0 kB\u001b[0m \u001b[31m9.6 MB/s\u001b[0m eta \u001b[36m0:00:00\u001b[0m\n",
            "\u001b[2K     \u001b[90m━━━━━━━━━━━━━━━━━━━━━━━━━━━━━━━━━━━━━━━━\u001b[0m \u001b[32m67.3/67.3 kB\u001b[0m \u001b[31m7.1 MB/s\u001b[0m eta \u001b[36m0:00:00\u001b[0m\n",
            "\u001b[?25h  Installing build dependencies ... \u001b[?25l\u001b[?25hdone\n",
            "  Getting requirements to build wheel ... \u001b[?25l\u001b[?25hdone\n",
            "  Preparing metadata (pyproject.toml) ... \u001b[?25l\u001b[?25hdone\n",
            "\u001b[2K     \u001b[90m━━━━━━━━━━━━━━━━━━━━━━━━━━━━━━━━━━━━━━━━\u001b[0m \u001b[32m283.7/283.7 kB\u001b[0m \u001b[31m24.3 MB/s\u001b[0m eta \u001b[36m0:00:00\u001b[0m\n",
            "\u001b[2K     \u001b[90m━━━━━━━━━━━━━━━━━━━━━━━━━━━━━━━━━━━━━━━━\u001b[0m \u001b[32m1.7/1.7 MB\u001b[0m \u001b[31m69.6 MB/s\u001b[0m eta \u001b[36m0:00:00\u001b[0m\n",
            "\u001b[2K     \u001b[90m━━━━━━━━━━━━━━━━━━━━━━━━━━━━━━━━━━━━━━━━\u001b[0m \u001b[32m67.6/67.6 kB\u001b[0m \u001b[31m7.4 MB/s\u001b[0m eta \u001b[36m0:00:00\u001b[0m\n",
            "\u001b[2K     \u001b[90m━━━━━━━━━━━━━━━━━━━━━━━━━━━━━━━━━━━━━━━━\u001b[0m \u001b[32m141.1/141.1 kB\u001b[0m \u001b[31m12.6 MB/s\u001b[0m eta \u001b[36m0:00:00\u001b[0m\n",
            "\u001b[2K     \u001b[90m━━━━━━━━━━━━━━━━━━━━━━━━━━━━━━━━━━━━━━━━\u001b[0m \u001b[32m49.2/49.2 kB\u001b[0m \u001b[31m4.9 MB/s\u001b[0m eta \u001b[36m0:00:00\u001b[0m\n",
            "\u001b[2K     \u001b[90m━━━━━━━━━━━━━━━━━━━━━━━━━━━━━━━━━━━━━━━━\u001b[0m \u001b[32m71.9/71.9 kB\u001b[0m \u001b[31m8.2 MB/s\u001b[0m eta \u001b[36m0:00:00\u001b[0m\n",
            "\u001b[2K     \u001b[90m━━━━━━━━━━━━━━━━━━━━━━━━━━━━━━━━━━━━━━━━\u001b[0m \u001b[32m53.6/53.6 kB\u001b[0m \u001b[31m4.8 MB/s\u001b[0m eta \u001b[36m0:00:00\u001b[0m\n",
            "\u001b[2K     \u001b[90m━━━━━━━━━━━━━━━━━━━━━━━━━━━━━━━━━━━━━━━━\u001b[0m \u001b[32m77.9/77.9 kB\u001b[0m \u001b[31m6.6 MB/s\u001b[0m eta \u001b[36m0:00:00\u001b[0m\n",
            "\u001b[2K     \u001b[90m━━━━━━━━━━━━━━━━━━━━━━━━━━━━━━━━━━━━━━━━\u001b[0m \u001b[32m58.3/58.3 kB\u001b[0m \u001b[31m6.3 MB/s\u001b[0m eta \u001b[36m0:00:00\u001b[0m\n",
            "\u001b[2K     \u001b[90m━━━━━━━━━━━━━━━━━━━━━━━━━━━━━━━━━━━━━━━━\u001b[0m \u001b[32m46.0/46.0 kB\u001b[0m \u001b[31m4.7 MB/s\u001b[0m eta \u001b[36m0:00:00\u001b[0m\n",
            "\u001b[2K     \u001b[90m━━━━━━━━━━━━━━━━━━━━━━━━━━━━━━━━━━━━━━━━\u001b[0m \u001b[32m52.5/52.5 kB\u001b[0m \u001b[31m5.4 MB/s\u001b[0m eta \u001b[36m0:00:00\u001b[0m\n",
            "\u001b[2K     \u001b[90m━━━━━━━━━━━━━━━━━━━━━━━━━━━━━━━━━━━━━━━━\u001b[0m \u001b[32m130.5/130.5 kB\u001b[0m \u001b[31m13.1 MB/s\u001b[0m eta \u001b[36m0:00:00\u001b[0m\n",
            "\u001b[2K     \u001b[90m━━━━━━━━━━━━━━━━━━━━━━━━━━━━━━━━━━━━━━━━\u001b[0m \u001b[32m341.4/341.4 kB\u001b[0m \u001b[31m29.7 MB/s\u001b[0m eta \u001b[36m0:00:00\u001b[0m\n",
            "\u001b[2K     \u001b[90m━━━━━━━━━━━━━━━━━━━━━━━━━━━━━━━━━━━━━━━━\u001b[0m \u001b[32m3.4/3.4 MB\u001b[0m \u001b[31m80.3 MB/s\u001b[0m eta \u001b[36m0:00:00\u001b[0m\n",
            "\u001b[2K     \u001b[90m━━━━━━━━━━━━━━━━━━━━━━━━━━━━━━━━━━━━━━━━\u001b[0m \u001b[32m1.2/1.2 MB\u001b[0m \u001b[31m58.8 MB/s\u001b[0m eta \u001b[36m0:00:00\u001b[0m\n",
            "\u001b[2K     \u001b[90m━━━━━━━━━━━━━━━━━━━━━━━━━━━━━━━━━━━━━━━━\u001b[0m \u001b[32m130.2/130.2 kB\u001b[0m \u001b[31m13.1 MB/s\u001b[0m eta \u001b[36m0:00:00\u001b[0m\n",
            "\u001b[2K     \u001b[90m━━━━━━━━━━━━━━━━━━━━━━━━━━━━━━━━━━━━━━━━\u001b[0m \u001b[32m307.7/307.7 kB\u001b[0m \u001b[31m27.7 MB/s\u001b[0m eta \u001b[36m0:00:00\u001b[0m\n",
            "\u001b[2K     \u001b[90m━━━━━━━━━━━━━━━━━━━━━━━━━━━━━━━━━━━━━━━━\u001b[0m \u001b[32m86.8/86.8 kB\u001b[0m \u001b[31m8.5 MB/s\u001b[0m eta \u001b[36m0:00:00\u001b[0m\n",
            "\u001b[?25h  Building wheel for pypika (pyproject.toml) ... \u001b[?25l\u001b[?25hdone\n"
          ]
        }
      ],
      "source": [
        "!pip install -qU langchain langgraph openai langchain-groq langchain-openai duckduckgo-search langchain-community chromadb"
      ]
    },
    {
      "cell_type": "markdown",
      "source": [
        "# Imports"
      ],
      "metadata": {
        "id": "CfUn90pB0nuI"
      }
    },
    {
      "cell_type": "code",
      "source": [
        "# Standard library imports\n",
        "import os\n",
        "import random\n",
        "import requests\n",
        "\n",
        "# Third-party imports\n",
        "from google.colab import userdata\n",
        "from IPython.display import Image, display\n",
        "from langchain_community.tools import DuckDuckGoSearchRun, DuckDuckGoSearchResults\n",
        "from langchain_core.agents import AgentAction, AgentFinish\n",
        "from langchain_core.messages import BaseMessage, HumanMessage, SystemMessage, ToolMessage\n",
        "from langchain_core.pydantic_v1 import BaseModel, Field\n",
        "from langchain_core.runnables.graph import CurveStyle, MermaidDrawMethod, NodeColors\n",
        "from langchain_core.tools import StructuredTool, tool\n",
        "from langchain_groq import ChatGroq\n",
        "from langchain_openai import ChatOpenAI\n",
        "from langchain.prompts import ChatPromptTemplate, PromptTemplate\n",
        "from langgraph.graph import END, MessageGraph, StateGraph\n",
        "from langgraph.prebuilt import ToolInvocation\n",
        "from langgraph.prebuilt.tool_executor import ToolExecutor\n",
        "from typing import Annotated, Sequence, TypedDict, Union, Literal, List\n",
        "\n",
        "from langchain.text_splitter import RecursiveCharacterTextSplitter\n",
        "from langchain_community.document_loaders import WebBaseLoader\n",
        "from langchain_community.vectorstores import Chroma\n",
        "from langchain_openai import OpenAIEmbeddings\n",
        "\n",
        "from pprint import pprint"
      ],
      "metadata": {
        "id": "hD6SQ4BW0nXW",
        "colab": {
          "base_uri": "https://localhost:8080/"
        },
        "outputId": "5a38755e-64a3-47f3-a77f-df22bd7c81b0"
      },
      "execution_count": null,
      "outputs": [
        {
          "output_type": "stream",
          "name": "stderr",
          "text": [
            "WARNING:langchain_community.utils.user_agent:USER_AGENT environment variable not set, consider setting it to identify your requests.\n"
          ]
        }
      ]
    },
    {
      "cell_type": "markdown",
      "source": [
        "# Env variables"
      ],
      "metadata": {
        "id": "JAClVi5eW2tR"
      }
    },
    {
      "cell_type": "code",
      "source": [
        "# Langsmith tracing\n",
        "# os.environ[\"LANGCHAIN_TRACING_V2\"] = \"true\"\n",
        "# os.environ[\"LANGCHAIN_ENDPOINT\"] = \"https://api.smith.langchain.com\"\n",
        "# os.environ[\"LANGCHAIN_API_KEY\"] = userdata.get('LANGCHAIN_API_KEY')\n",
        "# os.environ[\"LANGCHAIN_PROJECT\"] = \"blog-generator-from-chat\""
      ],
      "metadata": {
        "id": "2hAigxR508Bl"
      },
      "execution_count": null,
      "outputs": []
    },
    {
      "cell_type": "code",
      "source": [
        "if \"LANGCHAIN_TRACING_V2\" in os.environ:\n",
        "    del os.environ[\"LANGCHAIN_TRACING_V2\"]\n",
        "    del os.environ[\"LANGCHAIN_ENDPOINT\"]\n",
        "    del os.environ[\"LANGCHAIN_API_KEY\"]\n",
        "    del os.environ[\"LANGCHAIN_PROJECT\"]"
      ],
      "metadata": {
        "id": "fjrU0JLrD1Z0"
      },
      "execution_count": null,
      "outputs": []
    },
    {
      "cell_type": "code",
      "source": [
        "# Groq model\n",
        "os.environ[\"GROQ_API_KEY\"] = userdata.get('GROQ_API_KEY')\n",
        "os.environ[\"OPENAI_API_KEY\"] = userdata.get('OPENAI_API_KEY')\n",
        "\n",
        "# os.environ[\"TAVILY_API_KEY\"] = userdata.get('TAVILY_API_KEY')"
      ],
      "metadata": {
        "id": "xnxpu-YBIzDb"
      },
      "execution_count": null,
      "outputs": []
    },
    {
      "cell_type": "markdown",
      "source": [
        "## Extract contents from the chat"
      ],
      "metadata": {
        "id": "XXJ_4U02iCe8"
      }
    },
    {
      "cell_type": "code",
      "source": [
        "CHAT_URL = \"https://chatgpt.com/share/1d25bae0-fa33-4445-8276-b009a9bc28e1\""
      ],
      "metadata": {
        "id": "5QdnmUP_iCGU"
      },
      "execution_count": null,
      "outputs": []
    },
    {
      "cell_type": "code",
      "source": [
        "import requests\n",
        "from bs4 import BeautifulSoup\n",
        "import json\n",
        "\n",
        "\n",
        "def log_error(error_message):\n",
        "    \"\"\"\n",
        "    Utility function to log errors.\n",
        "    \"\"\"\n",
        "    print(f\"Error: {error_message}\")\n",
        "\n",
        "\n",
        "def get_chat_url():\n",
        "    \"\"\"\n",
        "    Function to get the chat URL from the user.\n",
        "    \"\"\"\n",
        "    url = input(\"Please enter the ChatGPT public chat URL: \")\n",
        "    return url\n",
        "\n",
        "def fetch_html_content(url):\n",
        "    \"\"\"\n",
        "    Function to fetch HTML content from the provided URL.\n",
        "    \"\"\"\n",
        "    try:\n",
        "        response = requests.get(url)\n",
        "        response.raise_for_status()  # Check if the request was successful\n",
        "        return response.text\n",
        "    except requests.exceptions.RequestException as e:\n",
        "        log_error(f\"Error fetching the HTML content: {e}\")\n",
        "        return None\n",
        "\n",
        "def extract_json_from_script(html_content):\n",
        "    \"\"\"\n",
        "    Function to extract and parse JSON content from script tags.\n",
        "    \"\"\"\n",
        "    soup = BeautifulSoup(html_content, 'lxml')\n",
        "    script_elements = soup.find_all(\"script\")\n",
        "\n",
        "    for script_element in script_elements:\n",
        "        script_content = script_element.string\n",
        "        if script_content:\n",
        "            try:\n",
        "                json_content = json.loads(script_content)\n",
        "                return json_content\n",
        "            except json.JSONDecodeError:\n",
        "                continue\n",
        "    log_error(\"No valid JSON content found in script tags.\")\n",
        "    return None\n",
        "\n",
        "def extract_messages(json_data):\n",
        "    \"\"\"\n",
        "    Function to extract chat messages from the JSON data in sequence.\n",
        "    \"\"\"\n",
        "    messages = []\n",
        "\n",
        "    conversation = json_data.get(\"props\", {}).get(\"pageProps\", {}).get(\"serverResponse\", {}).get(\"data\", {}).get(\"linear_conversation\", [])\n",
        "    title = json_data.get(\"props\", {}).get(\"pageProps\", {}).get(\"serverResponse\", {}).get(\"data\", {}).get(\"title\", 'Empty Title')\n",
        "\n",
        "    for message_data in conversation:\n",
        "        message = message_data.get('message', {})\n",
        "        author = message.get(\"author\", {}).get(\"role\", \"unknown\")\n",
        "        content = message.get('content', {})\n",
        "        parts = content.get('parts', [])\n",
        "\n",
        "        for part in parts:\n",
        "            if part and part != \"Original custom instructions no longer available\":\n",
        "                messages.append((author, part))\n",
        "\n",
        "    return title, messages\n",
        "\n",
        "def clean_and_format_messages(messages):\n",
        "    \"\"\"\n",
        "    Function to clean and format messages for further processing.\n",
        "    \"\"\"\n",
        "    cleaned_messages = []\n",
        "    for author, message in messages:\n",
        "        cleaned_messages.append({\n",
        "            \"role\": \"User\" if author == \"user\" else \"AI\",\n",
        "            # \"content\": \"\\n[User]: \" + message.strip() if author == \"user\" else \"\\n\\n[AI Response]: \" + message.strip()\n",
        "            \"content\": message.strip(),\n",
        "        })\n",
        "    return cleaned_messages\n",
        "\n",
        "def get_full_conversation(messages) -> str:\n",
        "    \"\"\"\n",
        "    Function to get the full conversation from the extracted messages.\n",
        "    \"\"\"\n",
        "    full_conversation = \"\"\n",
        "    for author, message in messages:\n",
        "        full_conversation += f\"{'expert-1' if author == 'user' else 'expert-2'}: {message}\\n\\n\"\n",
        "    return full_conversation\n",
        "\n",
        "\n",
        "html_content = fetch_html_content(CHAT_URL)\n",
        "json_data = extract_json_from_script(html_content)\n",
        "title, raw_messages = extract_messages(json_data)\n",
        "cleaned_messages = clean_and_format_messages(raw_messages)\n",
        "full_conversation = get_full_conversation(messages=raw_messages)\n",
        "\n",
        "print(f\"Title: {title}\")\n",
        "print(f\"Messages: {full_conversation[:300]}\" )"
      ],
      "metadata": {
        "colab": {
          "base_uri": "https://localhost:8080/"
        },
        "collapsed": true,
        "id": "F9ahOEZUfa2i",
        "outputId": "68f3a27f-8630-451a-800a-8dbb782fca9c"
      },
      "execution_count": null,
      "outputs": [
        {
          "output_type": "stream",
          "name": "stdout",
          "text": [
            "Title: Social Media Benefits Explained\n",
            "Messages: expert-1: When I post something on any social media platform, people say that you get followers XYZ. But, I'm trying to actually think what you get. Like, sometimes I think that when I post something, I don't... Like, right now on LinkedIn, I have 3300 followers. And I try to post something, and the\n"
          ]
        }
      ]
    },
    {
      "cell_type": "code",
      "source": [
        "print(get_full_conversation(messages=raw_messages[:2]))"
      ],
      "metadata": {
        "colab": {
          "base_uri": "https://localhost:8080/"
        },
        "collapsed": true,
        "id": "YRv-7J83joN5",
        "outputId": "9fc50927-f162-4480-a989-088cb8de029c"
      },
      "execution_count": null,
      "outputs": [
        {
          "output_type": "stream",
          "name": "stdout",
          "text": [
            "expert-1: When I post something on any social media platform, people say that you get followers XYZ. But, I'm trying to actually think what you get. Like, sometimes I think that when I post something, I don't... Like, right now on LinkedIn, I have 3300 followers. And I try to post something, and then I think that what number of followers will this get. Like, I am putting gemstones of, like, material over here, and then only a few people will watch, and nothing will happen about it. I'll get very little followers. I should maybe save content for large follower base. But then I think, on the other hand, that I'm getting something. Like, I don't know what. But, like, when people watch my content, or read my content, then something must be happening. Like, I must be gaining something. So, can you use your knowledge of social media algorithms and technically explain me what am I gaining?\n",
            "expert-2: Posting on social media, particularly platforms like LinkedIn, can yield various benefits beyond just gaining followers. Here’s a detailed breakdown of what you’re gaining and why it matters, backed by the mechanics of social media algorithms:\n",
            "\n",
            "### **1. Visibility and Reach**\n",
            "\n",
            "**Why:** Every post you make increases your visibility. The LinkedIn algorithm prioritizes content from connections, followed accounts, and relevant content based on user engagement. \n",
            "\n",
            "**What You Gain:** Even if your follower count doesn’t skyrocket immediately, your consistent posting ensures that more people see your content. Visibility can lead to future connections, collaborations, and opportunities.\n",
            "\n",
            "### **2. Engagement and Interaction**\n",
            "\n",
            "**Why:** Algorithms favor posts with high engagement (likes, comments, shares). When your content sparks interaction, it gets pushed to a wider audience.\n",
            "\n",
            "**What You Gain:** Engaged followers who comment or share your posts extend your reach further, bringing your content into their networks. This interaction can foster relationships and position you as a thought leader.\n",
            "\n",
            "### **3. Brand Building and Authority**\n",
            "\n",
            "**Why:** Regular, valuable content helps establish your expertise in your field. The more you share insightful and high-quality content, the more you build your personal brand.\n",
            "\n",
            "**What You Gain:** Authority and credibility in your industry, which can translate into speaking engagements, consulting opportunities, and job offers.\n",
            "\n",
            "### **4. Network Growth**\n",
            "\n",
            "**Why:** Social media platforms recommend your profile to others who might be interested based on shared connections and interests.\n",
            "\n",
            "**What You Gain:** New connections and followers who are genuinely interested in your content and professional background. These new followers can be potential clients, partners, or employers.\n",
            "\n",
            "### **5. Data and Insights**\n",
            "\n",
            "**Why:** LinkedIn provides analytics on post performance, including impressions, engagement rates, and audience demographics.\n",
            "\n",
            "**What You Gain:** Insights into what type of content resonates with your audience, allowing you to tailor future posts for better engagement.\n",
            "\n",
            "### **6. Content Longevity**\n",
            "\n",
            "**Why:** Some content, especially evergreen content, can continue to get engagement long after it’s posted. LinkedIn’s algorithm occasionally resurfaces older posts that are still generating interaction.\n",
            "\n",
            "**What You Gain:** Prolonged visibility and engagement over time, maximizing the return on your content creation efforts.\n",
            "\n",
            "### **7. Professional Development**\n",
            "\n",
            "**Why:** Engaging with your audience’s comments and feedback can provide new perspectives and learning opportunities.\n",
            "\n",
            "**What You Gain:** Enhanced understanding of your field and audience needs, which can inform your content strategy and professional growth.\n",
            "\n",
            "### **8. SEO Benefits**\n",
            "\n",
            "**Why:** LinkedIn profiles and posts are indexed by search engines. Active profiles with regular updates are more likely to appear in search results.\n",
            "\n",
            "**What You Gain:** Increased chances of being discovered by those searching for expertise in your field, leading to new opportunities.\n",
            "\n",
            "### **9. Community Building**\n",
            "\n",
            "**Why:** Social media fosters communities. By consistently posting, you create a space for like-minded professionals to gather and discuss relevant topics.\n",
            "\n",
            "**What You Gain:** A supportive network of professionals who can offer advice, support, and potential collaboration.\n",
            "\n",
            "### **Balancing Content and Follower Growth:**\n",
            "\n",
            "While it’s tempting to save content for a larger follower base, remember that consistent posting is key to growing that base. Each post is a stepping stone towards building a larger, more engaged audience. Think of your content as seeds—you may not see immediate growth, but over time, with consistent effort, those seeds will flourish into a thriving network.\n",
            "\n",
            "### **Conclusion:**\n",
            "\n",
            "Posting regularly on LinkedIn is an investment in your professional presence and future opportunities. The benefits extend beyond immediate follower growth to long-term visibility, engagement, and authority in your field. Keep sharing those “gemstones” of content—they’re building your brand, even if the growth seems slow at first.\n",
            "\n",
            "**Remember:** Patience and consistency are key in social media growth. Keep sharing, engaging, and learning from your audience to maximize the impact of your efforts.\n",
            "\n"
          ]
        }
      ]
    },
    {
      "cell_type": "markdown",
      "source": [
        "# LLMs"
      ],
      "metadata": {
        "id": "q1F2CtSaPJg9"
      }
    },
    {
      "cell_type": "code",
      "source": [
        "model = ChatGroq(model=\"llama3-8b-8192\", max_tokens=8000)\n",
        "long_context_llm = ChatOpenAI(model=\"gpt-4o\")"
      ],
      "metadata": {
        "id": "M9wnpinXnGEC"
      },
      "execution_count": null,
      "outputs": []
    },
    {
      "cell_type": "code",
      "source": [
        "for m in all_messages:\n",
        "    print(model.get_num_tokens(m))\n"
      ],
      "metadata": {
        "colab": {
          "base_uri": "https://localhost:8080/"
        },
        "id": "-rRst9xUef81",
        "outputId": "f1ff6a27-4f70-46e6-adbf-d98dc5f48b2d"
      },
      "execution_count": null,
      "outputs": [
        {
          "output_type": "stream",
          "name": "stdout",
          "text": [
            "1115\n",
            "1127\n",
            "1204\n",
            "940\n",
            "1196\n",
            "1013\n",
            "1566\n",
            "1418\n",
            "36\n"
          ]
        }
      ]
    },
    {
      "cell_type": "code",
      "source": [
        "system = \"Can you provide a brief summary of the given text? The summary should cover all the key points \\\n",
        "and main ideas presented in the original text, while also condensing the information into a concise and easy-to-understand \\\n",
        "format. Please ensure that the summary includes relevant details and examples that support the main ideas, while avoiding \\\n",
        "any unnecessary information or repetition. The length of the summary should be appropriate for the length and complexity \\\n",
        "of the original text, providing a clear and accurate overview without omitting any important information. Just directly \\\n",
        "give the summary. Do not start with anything else.\"\n",
        "\n",
        "chat_prompt = ChatPromptTemplate.from_messages([\n",
        "    (\"system\", system),\n",
        "    (\"human\", \"{conversation}\\n\\nHere is a brief summary of the original text:\")\n",
        "])\n",
        "\n",
        "summary_llm = chat_prompt | model\n",
        "\n",
        "resp = summary_llm.invoke({\"conversation\": all_messages[0]})\n",
        "print(resp.content)"
      ],
      "metadata": {
        "colab": {
          "base_uri": "https://localhost:8080/"
        },
        "id": "StjHzSufnkba",
        "outputId": "ea3120f7-27e9-4f14-d2b8-855e4a8ea327"
      },
      "execution_count": null,
      "outputs": [
        {
          "output_type": "stream",
          "name": "stdout",
          "text": [
            "When posting on social media, people often focus on gaining followers, but there are many benefits beyond just follower growth. The social media algorithm prioritizes content from connections, followed accounts, and relevant content based on user engagement, increasing visibility and reach. Consistent posting leads to engagement and interaction, which can foster relationships and position you as a thought leader. Other benefits include building your personal brand, growing your network, gaining data and insights, content longevity, professional development, SEO benefits, and community building. While it's tempting to save content for a larger follower base, consistent posting is key to growing that base. By sharing high-quality content regularly, you're building your professional presence and future opportunities.\n"
          ]
        }
      ]
    },
    {
      "cell_type": "code",
      "source": [
        "resps = summary_llm.batch([{\"conversation\": m} for m in all_messages])\n",
        "all_resps = '\\n'.join([r.content for r in resps])"
      ],
      "metadata": {
        "id": "2nkjAz4JsJOS"
      },
      "execution_count": null,
      "outputs": []
    },
    {
      "cell_type": "code",
      "source": [
        "class BlogOutlineOutput(BaseModel):\n",
        "    headline: str = Field(..., description=\"The headline of the blog\")\n",
        "    index_list: List[str] = Field(..., description=\"List of table of contents for the blog\")\n",
        "\n",
        "structured_outline_llm = model.with_structured_output(BlogOutlineOutput)\n",
        "\n",
        "system = \"You are an expert in writing the table of contents of a blog by reading the content of a chat. \\\n",
        "You will be given a summaries of a conversation between human and an AI. You will be working with a reviewer to generate \\\n",
        "the table of contents. Take a look at the Feedback if any, the summaries of the conversation\n",
        "Generate a catchy headline for the blog and a list of values having the table of contents of the blog in proper order. \\\n",
        "Just to give an example, you might want to start with an introduction section, end with a conclusion section, and have the \\\n",
        "table of contents in between in proper order. The table of contents should be short and concise not exceeding more than 10 \\\n",
        "words.\"\n",
        "\n",
        "chat_prompt = ChatPromptTemplate.from_messages([\n",
        "    (\"system\", system),\n",
        "    (\"human\", \"{summaries}\")\n",
        "])\n",
        "\n",
        "blog_outline_llm = chat_prompt | structured_outline_llm\n",
        "\n",
        "\n",
        "# response = blog_outline_llm.invoke({\"conversation\": all_messages})\n",
        "# print(response)"
      ],
      "metadata": {
        "id": "6UnCT0z9PJN5"
      },
      "execution_count": null,
      "outputs": []
    },
    {
      "cell_type": "code",
      "source": [
        "ol = blog_outline_llm.invoke({\"summaries\": all_resps})\n",
        "print(\"Headline: \", ol.headline)\n",
        "for v in ol.index_list:\n",
        "    print(v)"
      ],
      "metadata": {
        "colab": {
          "base_uri": "https://localhost:8080/"
        },
        "id": "YUYoi5t1tK0D",
        "outputId": "83d42c28-b1c8-4342-d2a6-4062f5b2c246"
      },
      "execution_count": null,
      "outputs": [
        {
          "output_type": "stream",
          "name": "stdout",
          "text": [
            "Headline:  When posting on social media, you gain more than just followers\n",
            "Benefits of posting on social media\n",
            "Technical benefits of posting on social media\n",
            "Increasing online presence and influence\n",
            "Understanding graph centrality\n",
            "Strategies for optimizing social media presence\n",
            "Building strategic partnerships\n",
            "Optimizing network for maximum influence and reach\n",
            "Horizontal network expansion strategy\n"
          ]
        }
      ]
    },
    {
      "cell_type": "code",
      "source": [
        "# outline reviewer llm\n",
        "\n",
        "system = \"As a reviewer, you are tasked with evaluating a table of contents created by an assistant. \\\n",
        "This table of contents is based on summaries of conversations between a user and a bot. Please provide your detailed \\\n",
        "feedback on the table of contents in bulleted points, considering the following aspects:\\n\\\n",
        "Clarity: Are the headings and subheadings clear and easy to understand?\\n\\\n",
        "Conciseness: Does the table of contents avoid unnecessary detail while still conveying the main points?\\n\\\n",
        "Organization: Is the structure logical and well-organized?\\n\\\n",
        "Relevance: Do the headings and subheadings accurately reflect the content of the summaries?\\n\\\n",
        "Completeness: Does the table of contents cover all the key topics discussed in the conversation?\\n\\\n",
        "Your feedback will help improve the quality and usability of the table of contents.\"\n",
        "\n",
        "reviewer_prompt = ChatPromptTemplate.from_template(\"{system}\\n\\nSummaries of Conversation:{summaries}\\n\\n\\\n",
        "Table of Contents:\\n{table_of_contents}\")\n",
        "# print(reviewer_prompt.format(**{\"system\": system, \"summaries\": all_resps, \"table_of_contents\": '\\n'.join(ol.index_list)}))\n",
        "\n",
        "reviewer_llm = reviewer_prompt | model\n",
        "\n",
        "r = reviewer_llm.invoke({\"system\": system, \"summaries\": all_resps, \"table_of_contents\": '\\n'.join(ol.index_list)})\n",
        "print(r.content)"
      ],
      "metadata": {
        "colab": {
          "base_uri": "https://localhost:8080/"
        },
        "id": "bAyINyY9zlTU",
        "outputId": "725de0a1-556d-4fe1-875f-72b46a477b6c"
      },
      "execution_count": null,
      "outputs": [
        {
          "output_type": "stream",
          "name": "stdout",
          "text": [
            "Here is my feedback on the table of contents:\n",
            "\n",
            "**Clarity:**\n",
            "The headings and subheadings are generally clear and easy to understand. However, some of the titles could be more concise and specific. For example, \"Benefits of posting on social media\" could be shortened to \"Social Media Benefits\" and \"Strategies for optimizing social media presence\" could be shortened to \"Social Media Optimization Strategies\".\n",
            "\n",
            "**Conciseness:**\n",
            "The table of contents is generally concise and to the point. However, some of the headings are still a bit vague, and it would be helpful to have more specific and descriptive titles. Additionally, some of the headings could be combined or reorganized to make the table of contents more logical and streamlined.\n",
            "\n",
            "**Organization:**\n",
            "The structure of the table of contents is generally logical and well-organized. However, some of the headings could be reorganized to create a more cohesive and flowing structure. For example, the section on \"Understanding graph centrality\" could be moved to a more prominent position in the table of contents, as it seems to be a key concept in the conversation.\n",
            "\n",
            "**Relevance:**\n",
            "The headings and subheadings accurately reflect the content of the summaries, for the most part. However, some of the headings could be more specific and descriptive to better reflect the content of the summaries.\n",
            "\n",
            "**Completeness:**\n",
            "The table of contents covers most of the key topics discussed in the conversation, but there are a few gaps. For example, there is no section on the hypothetical scenario discussed in the conversation, or the example of how to execute the horizontal network expansion strategy on LinkedIn.\n",
            "\n",
            "Here are some specific suggestions for improving the table of contents:\n",
            "\n",
            "* Consider combining the headings \"Increasing online presence and influence\" and \"Understanding graph centrality\" into a single heading that is more specific and descriptive.\n",
            "* Consider reorganizing the table of contents to create a more logical and coherent structure. For example, you could start with the most general topics (e.g. \"Benefits of posting on social media\") and then move on to more specific topics (e.g. \"Understanding graph centrality\").\n",
            "* Consider adding more specific and descriptive headings to the table of contents to better reflect the content of the summaries.\n",
            "* Consider adding a section on the hypothetical scenario discussed in the conversation, or the example of how to execute the horizontal network expansion strategy on LinkedIn.\n",
            "\n",
            "Overall, the table of contents is a good start, but could benefit from some refinement and reorganization to make it more clear, concise, and complete.\n"
          ]
        }
      ]
    },
    {
      "cell_type": "markdown",
      "source": [
        "## Outline generator"
      ],
      "metadata": {
        "id": "qvbCMV-5tUbr"
      }
    },
    {
      "cell_type": "code",
      "source": [
        "from typing import List, Optional\n",
        "\n",
        "from langchain_core.prompts import ChatPromptTemplate\n",
        "from langchain_core.pydantic_v1 import BaseModel, Field\n",
        "\n",
        "\n",
        "class Subsection(BaseModel):\n",
        "    subsection_title: str = Field(..., title=\"Title of the subsection\")\n",
        "    description: str = Field(..., title=\"Content of the subsection\")\n",
        "\n",
        "    @property\n",
        "    def as_str(self) -> str:\n",
        "        return f\"### {self.subsection_title}\\n\\n{self.description}\".strip()\n",
        "\n",
        "\n",
        "class Section(BaseModel):\n",
        "    section_title: str = Field(..., title=\"Title of the section\")\n",
        "    description: str = Field(..., title=\"Content of the section\")\n",
        "    subsections: Optional[List[Subsection]] = Field(\n",
        "        default=None,\n",
        "        title=\"Titles and descriptions for each subsection of the Wikipedia page.\",\n",
        "    )\n",
        "\n",
        "    @property\n",
        "    def as_str(self) -> str:\n",
        "        subsections = \"\\n\\n\".join(\n",
        "            f\"### {subsection.subsection_title}\\n\\n{subsection.description}\"\n",
        "            for subsection in self.subsections or []\n",
        "        )\n",
        "        return f\"## {self.section_title}\\n\\n{self.description}\\n\\n{subsections}\".strip()\n",
        "\n",
        "\n",
        "class Outline(BaseModel):\n",
        "    page_title: str = Field(..., title=\"Title of the Wikipedia page\")\n",
        "    sections: List[Section] = Field(\n",
        "        default_factory=list,\n",
        "        title=\"Titles and descriptions for each section of the Wikipedia page.\",\n",
        "    )\n",
        "\n",
        "    @property\n",
        "    def as_str(self) -> str:\n",
        "        sections = \"\\n\\n\".join(section.as_str for section in self.sections)\n",
        "        return f\"# {self.page_title}\\n\\n{sections}\".strip()\n",
        "\n",
        "\n",
        "refine_outline_prompt = ChatPromptTemplate.from_messages(\n",
        "    [\n",
        "        (\n",
        "            \"system\",\n",
        "            \"\"\"You are an expert blog writer. You have gathered information from experts. Now, you are writing an outline of blog article. \\\n",
        "You need to make sure that the outline is comprehensive and specific. \\\n",
        "Topic you are writing about: {topic} \"\"\",\n",
        "        ),\n",
        "        (\n",
        "            \"user\",\n",
        "            \"Draft an outline based on the conversations with subject-matter experts:\\n\\nConversations:\\n\\n{conversations}\\n\\nWrite the outline for the blog:\",\n",
        "        ),\n",
        "    ]\n",
        ")\n",
        "\n",
        "# Using turbo preview since the context can get quite long\n",
        "refine_outline_chain = refine_outline_prompt | long_context_llm.with_structured_output(Outline)\n",
        "\n",
        "refined_outline = refine_outline_chain.invoke(\n",
        "    {\n",
        "        \"topic\": title,\n",
        "        \"conversations\": full_conversation,\n",
        "    }\n",
        ")\n"
      ],
      "metadata": {
        "id": "ruRkrS-01xov"
      },
      "execution_count": null,
      "outputs": []
    },
    {
      "cell_type": "code",
      "source": [
        "print(refined_outline.as_str)"
      ],
      "metadata": {
        "colab": {
          "base_uri": "https://localhost:8080/"
        },
        "id": "U6d9IypL6tQZ",
        "outputId": "a4b16a03-94b7-4b7b-c3ac-fbf4e3aa8ece"
      },
      "execution_count": null,
      "outputs": [
        {
          "output_type": "stream",
          "name": "stdout",
          "text": [
            "# Social Media Benefits Explained\n",
            "\n",
            "## Introduction\n",
            "\n",
            "Introduce the topic of social media benefits, highlighting the importance of understanding the deeper impacts beyond just follower counts.\n",
            "\n",
            "## Visibility and Reach\n",
            "\n",
            "Discuss how consistent posting increases visibility and reach on platforms like LinkedIn, emphasizing the role of algorithms.\n",
            "\n",
            "### Algorithm Prioritization\n",
            "\n",
            "Explain how social media algorithms prioritize content based on visibility and engagement.\n",
            "\n",
            "### Future Opportunities\n",
            "\n",
            "Detail how increased visibility can lead to future connections, collaborations, and opportunities.\n",
            "\n",
            "## Engagement and Interaction\n",
            "\n",
            "Explore the importance of engagement and interaction on social media and how it extends reach.\n",
            "\n",
            "### Algorithmic Favorability\n",
            "\n",
            "Describe how algorithms favor posts with high engagement, pushing them to a wider audience.\n",
            "\n",
            "### Building Relationships\n",
            "\n",
            "Explain how engagement helps foster relationships and positions you as a thought leader.\n",
            "\n",
            "## Brand Building and Authority\n",
            "\n",
            "Highlight the role of regular, valuable content in establishing expertise and building a personal brand.\n",
            "\n",
            "### Content Quality\n",
            "\n",
            "Discuss the importance of sharing insightful and high-quality content to build authority.\n",
            "\n",
            "### Industry Credibility\n",
            "\n",
            "Explain how consistent content sharing can lead to speaking engagements, consulting opportunities, and job offers.\n",
            "\n",
            "## Network Growth\n",
            "\n",
            "Examine how social media platforms recommend your profile to others, helping grow your network.\n",
            "\n",
            "### Connection Recommendations\n",
            "\n",
            "Explain how platforms suggest your profile based on shared connections and interests.\n",
            "\n",
            "### Genuine Followers\n",
            "\n",
            "Discuss how new connections and followers can be potential clients, partners, or employers.\n",
            "\n",
            "## Data and Insights\n",
            "\n",
            "Detail the analytics provided by platforms like LinkedIn and how they can inform content strategy.\n",
            "\n",
            "### Performance Analytics\n",
            "\n",
            "Describe the types of analytics available, such as impressions, engagement rates, and audience demographics.\n",
            "\n",
            "### Strategy Adjustment\n",
            "\n",
            "Explain how to use these insights to tailor future posts for better engagement.\n",
            "\n",
            "## Content Longevity\n",
            "\n",
            "Discuss how evergreen content can continue to get engagement long after it’s posted.\n",
            "\n",
            "### Algorithmic Recirculation\n",
            "\n",
            "Explain how algorithms resurface older posts that are still generating interaction.\n",
            "\n",
            "### Prolonged Visibility\n",
            "\n",
            "Detail the benefits of prolonged visibility and engagement over time.\n",
            "\n",
            "## Professional Development\n",
            "\n",
            "Highlight how engaging with your audience’s comments and feedback can provide new perspectives and learning opportunities.\n",
            "\n",
            "### Audience Feedback\n",
            "\n",
            "Discuss how audience feedback can enhance understanding of your field and inform content strategy.\n",
            "\n",
            "### Continuous Learning\n",
            "\n",
            "Explain how social media interactions contribute to professional growth.\n",
            "\n",
            "## SEO Benefits\n",
            "\n",
            "Explain how LinkedIn profiles and posts are indexed by search engines, enhancing discoverability.\n",
            "\n",
            "### Search Engine Indexing\n",
            "\n",
            "Describe how active profiles with regular updates are more likely to appear in search results.\n",
            "\n",
            "### Increased Discoverability\n",
            "\n",
            "Detail the benefits of being discovered through search engines, leading to new opportunities.\n",
            "\n",
            "## Community Building\n",
            "\n",
            "Explore how social media fosters communities and the benefits of creating a space for like-minded professionals.\n",
            "\n",
            "### Fostering Communities\n",
            "\n",
            "Explain how consistent posting creates a space for discussions among like-minded professionals.\n",
            "\n",
            "### Supportive Networks\n",
            "\n",
            "Discuss the benefits of having a supportive network for advice, support, and potential collaboration.\n",
            "\n",
            "## Balancing Content and Follower Growth\n",
            "\n",
            "Discuss the importance of consistent posting for growing a follower base and the long-term benefits of this approach.\n",
            "\n",
            "### Consistency in Posting\n",
            "\n",
            "Highlight the importance of consistent posting to grow and engage a follower base.\n",
            "\n",
            "### Long-term Benefits\n",
            "\n",
            "Explain the long-term benefits of regular posting, including increased visibility and network growth.\n",
            "\n",
            "## Conclusion\n",
            "\n",
            "Summarize the key benefits of regular social media posting and encourage readers to remain patient and consistent in their efforts.\n"
          ]
        }
      ]
    },
    {
      "cell_type": "code",
      "source": [
        "# Initialize the recursive text splitter\n",
        "text_splitter = RecursiveCharacterTextSplitter(chunk_size=2000, chunk_overlap=100,\n",
        "                                               separators=[\"expert-1\", \"expert-2\", \"\\n\\n\", \"\\n\", '.'])\n",
        "\n",
        "embeddings = OpenAIEmbeddings(model=\"text-embedding-3-small\")"
      ],
      "metadata": {
        "id": "S_DedCW_6zM8"
      },
      "execution_count": null,
      "outputs": []
    },
    {
      "cell_type": "code",
      "source": [
        "# Chunk the long text\n",
        "chunks = text_splitter.split_text(full_conversation)"
      ],
      "metadata": {
        "id": "KsyrxsCS9JxC"
      },
      "execution_count": null,
      "outputs": []
    },
    {
      "cell_type": "code",
      "source": [
        "len(chunks)\n",
        "print(chunks[52])"
      ],
      "metadata": {
        "colab": {
          "base_uri": "https://localhost:8080/"
        },
        "id": "0ygtU5l49ORa",
        "outputId": "d1c2c5a5-a6a5-43d6-f4f2-273968c60de3"
      },
      "execution_count": null,
      "outputs": [
        {
          "output_type": "stream",
          "name": "stdout",
          "text": [
            "**Steps:**\n",
            "- **LinkedIn Groups:** Join groups that are specific to different roles (e.g., groups for designers, engineers, marketers).\n",
            "- **Industry Associations:** Participate in industry associations and forums that cater to a wide range of professionals.\n",
            "\n",
            "### **7. Host Cross-Functional Events**\n",
            "\n",
            "**Objective:** Position yourself as a connector and leader in your industry.\n",
            "\n",
            "**Steps:**\n",
            "- **Webinars and Panels:** Host webinars or panel discussions that bring together experts from different roles. Promote these events widely.\n",
            "- **Workshops:** Organize workshops or brainstorming sessions on interdisciplinary topics, inviting diverse professionals.\n",
            "\n",
            "### **8. Leverage Mutual Connections**\n",
            "\n",
            "**Objective:** Utilize your existing network to facilitate introductions.\n"
          ]
        }
      ]
    },
    {
      "cell_type": "code",
      "source": [
        "from langchain_community.vectorstores import SKLearnVectorStore"
      ],
      "metadata": {
        "id": "WWFfxEaE-DV9"
      },
      "execution_count": null,
      "outputs": []
    },
    {
      "cell_type": "code",
      "source": [
        "vectorstore = SKLearnVectorStore.from_texts(\n",
        "    chunks,\n",
        "    embedding=embeddings,\n",
        ")\n",
        "retriever = vectorstore.as_retriever(k=7)"
      ],
      "metadata": {
        "id": "rL6AhkMG-vf3"
      },
      "execution_count": null,
      "outputs": []
    },
    {
      "cell_type": "code",
      "source": [
        "retriever.invoke(\"What's the point of expaning network?\")"
      ],
      "metadata": {
        "colab": {
          "base_uri": "https://localhost:8080/"
        },
        "id": "eC-HzGAK-7gQ",
        "outputId": "9714d61a-7b5d-4992-c58e-3f23cf261900"
      },
      "execution_count": null,
      "outputs": [
        {
          "output_type": "execute_result",
          "data": {
            "text/plain": [
              "[Document(metadata={'id': 'e36e7591-c574-434d-8d9e-c7529d355a0d'}, page_content='expert-1: Go deep into optimize your network part.'),\n",
              " Document(metadata={'id': 'fed212ef-70e6-4eb6-a0a5-4ad4f8a199ce'}, page_content=\"expert-2: Sure, let's delve deeper into optimizing your network. Optimizing your network involves strategic actions to enhance your position and influence within the social graph. Here are the detailed steps and strategies to achieve this:\\n\\n### **Optimizing Your Network**\\n\\n#### **1. Expand Strategically**\\n\\n**Objective:** Increase your betweenness and eigenvector centrality by connecting with key individuals who can act as bridges between different segments of your network.\\n\\n**Steps:**\\n\\n1. **Identify Key Connectors:**\\n   - **Use Tools:** Platforms like LinkedIn Sales Navigator can help identify individuals who are highly connected within specific industries or circles.\\n   - **Observe Engagement:** Look for people who frequently interact with various groups, especially those who engage with both high-level influencers and broader audiences.\"),\n",
              " Document(metadata={'id': '4af70823-2bb3-4e63-8e26-61b194bb2da0'}, page_content='expert-2: Yes, expanding your network horizontally involves connecting with key individuals across different roles and departments within organizations. This strategy ensures that you are not only deepening your influence within a single area but also broadening your reach across various functions. Here’s how you can execute this horizontally expansive networking strategy:\\n\\n### **Horizontal Network Expansion Strategy**\\n\\n### **1. Identify Key Roles in Your Industry**\\n\\n**Objective:** Connect with influential individuals across different roles to diversify your network.\\n\\n**Roles to Target:**\\n- **Department Heads:** Such as the head of design, engineering, marketing, etc.\\n- **Founders and C-Suite Executives:** Founders, CEOs, CTOs, CMOs.\\n- **Key Contributors:** Senior engineers, lead designers, product managers.\\n\\n### **2. Research and Identify Potential Connections**'),\n",
              " Document(metadata={'id': 'e62a2f5a-e1dc-4dad-8b40-65160885ee6c'}, page_content='expert-1: As in, expand the network horizontally, like connect with the designer head, and then connect with the founder, and then connect with the engineer head?')]"
            ]
          },
          "metadata": {},
          "execution_count": 62
        }
      ]
    },
    {
      "cell_type": "code",
      "source": [
        "print(refined_outline.sections[1].as_str)"
      ],
      "metadata": {
        "colab": {
          "base_uri": "https://localhost:8080/"
        },
        "id": "KEFqHiQoATkn",
        "outputId": "7abeb216-7e7c-47ac-ac3a-33c3d9b15539"
      },
      "execution_count": null,
      "outputs": [
        {
          "output_type": "stream",
          "name": "stdout",
          "text": [
            "## Visibility and Reach\n",
            "\n",
            "Discuss how consistent posting increases visibility and reach on platforms like LinkedIn, emphasizing the role of algorithms.\n",
            "\n",
            "### Algorithm Prioritization\n",
            "\n",
            "Explain how social media algorithms prioritize content based on visibility and engagement.\n",
            "\n",
            "### Future Opportunities\n",
            "\n",
            "Detail how increased visibility can lead to future connections, collaborations, and opportunities.\n"
          ]
        }
      ]
    },
    {
      "cell_type": "code",
      "source": [
        "class SubSection(BaseModel):\n",
        "    subsection_title: str = Field(..., title=\"Title of the subsection\")\n",
        "    content: str = Field(\n",
        "        ...,\n",
        "        title=\"Full content of the subsection.\",\n",
        "    )\n",
        "\n",
        "    @property\n",
        "    def as_str(self) -> str:\n",
        "        return f\"### {self.subsection_title}\\n\\n{self.content}\".strip()\n",
        "\n",
        "\n",
        "class BlogSection(BaseModel):\n",
        "    section_title: str = Field(..., title=\"Title of the section\")\n",
        "    content: str = Field(..., title=\"Full content of the section\")\n",
        "    subsections: Optional[List[Subsection]] = Field(\n",
        "        default=None,\n",
        "        title=\"Titles and descriptions for each subsection of the blog.\",\n",
        "    )\n",
        "\n",
        "    @property\n",
        "    def as_str(self) -> str:\n",
        "        subsections = \"\\n\\n\".join(\n",
        "            subsection.as_str for subsection in self.subsections or []\n",
        "        )\n",
        "        return (\n",
        "            f\"## {self.section_title}\\n\\n{self.content}\\n\\n{subsections}\".strip()\n",
        "        )\n",
        "\n",
        "\n",
        "section_writer_prompt = ChatPromptTemplate.from_messages(\n",
        "    [\n",
        "        (\n",
        "            \"system\",\n",
        "            \"You are an expert blog writer. Complete your assigned blog section from the following outline:\\n\\n\"\n",
        "            \"{outline}\\n\\nUse the following references:\\n\\n<Documents>\\n{docs}\\n<Documents>\",\n",
        "        ),\n",
        "        (\"user\", \"Write the full blog section for the {section} section.\"),\n",
        "    ]\n",
        ")\n",
        "\n",
        "\n",
        "async def retrieve(inputs: dict):\n",
        "    docs = await retriever.ainvoke(inputs[\"topic\"] + \": \" + inputs[\"section\"])\n",
        "    formatted = \"\\n\".join(\n",
        "        [\n",
        "            f'<Document/>\\n{doc.page_content}\\n</Document>'\n",
        "            for doc in docs\n",
        "        ]\n",
        "    )\n",
        "    return {\"docs\": formatted, **inputs}\n",
        "\n",
        "\n",
        "section_writer = (\n",
        "    retrieve\n",
        "    | section_writer_prompt\n",
        "    | long_context_llm.with_structured_output(BlogSection)\n",
        ")"
      ],
      "metadata": {
        "id": "dS67t5qfB2a9"
      },
      "execution_count": null,
      "outputs": []
    },
    {
      "cell_type": "code",
      "source": [
        "sections = await section_writer.abatch(\n",
        "    [\n",
        "        {\n",
        "            \"outline\": refined_outline.as_str,\n",
        "            \"section\": section.section_title,\n",
        "            \"topic\": title,\n",
        "        }\n",
        "        for section in refined_outline.sections\n",
        "    ]\n",
        ")"
      ],
      "metadata": {
        "id": "gxRNyyzgC76U"
      },
      "execution_count": null,
      "outputs": []
    },
    {
      "cell_type": "code",
      "source": [
        "len(sections)"
      ],
      "metadata": {
        "colab": {
          "base_uri": "https://localhost:8080/"
        },
        "id": "qYYJ6COqGrCf",
        "outputId": "103d7ece-398f-4c7b-cc4b-a2887a22cfa1"
      },
      "execution_count": null,
      "outputs": [
        {
          "output_type": "execute_result",
          "data": {
            "text/plain": [
              "12"
            ]
          },
          "metadata": {},
          "execution_count": 73
        }
      ]
    },
    {
      "cell_type": "code",
      "source": [
        "draft = \"\\n\\n\".join([section.as_str for section in sections])"
      ],
      "metadata": {
        "collapsed": true,
        "id": "BfDA_-ajGuH0"
      },
      "execution_count": null,
      "outputs": []
    },
    {
      "cell_type": "code",
      "source": [
        "from IPython.display import Markdown\n",
        "\n",
        "# We will down-header the sections to create less confusion in this notebook\n",
        "Markdown(section.as_str)"
      ],
      "metadata": {
        "colab": {
          "base_uri": "https://localhost:8080/",
          "height": 383
        },
        "id": "6eaqt0CbDBsq",
        "outputId": "acbf4f51-6da7-43ee-a5c5-846bacaaec7f"
      },
      "execution_count": null,
      "outputs": [
        {
          "output_type": "execute_result",
          "data": {
            "text/plain": [
              "<IPython.core.display.Markdown object>"
            ],
            "text/markdown": "## Visibility and Reach\n\nConsistent posting on social media platforms like LinkedIn significantly enhances your visibility and reach. The more frequently you post, the more opportunities you create for your content to be seen by a broader audience. This is not just about the sheer number of posts but the strategic timing and relevance of your content. Platforms like LinkedIn use sophisticated algorithms to determine which posts to display prominently in users' feeds. Here's a closer look at how these algorithms work and the future opportunities that increased visibility can bring:\n\n### Algorithm Prioritization\n\nSocial media algorithms prioritize content based on visibility and engagement. When you post consistently, you increase your chances of appearing in your followers' feeds. These algorithms favor content that garners more interactions—likes, comments, and shares. This means that the more engaging your content is, the more likely it is to be seen by a wider audience. The algorithm recognizes patterns of high engagement and boosts your content's visibility, leading to even more interactions.\n\n### Future Opportunities\n\nIncreased visibility on social media can open doors to numerous future opportunities. When more people see your content, you're more likely to attract attention from potential collaborators, clients, and industry leaders. This can lead to meaningful connections and collaborations that might not have been possible otherwise. Over time, this enhanced visibility can translate into tangible benefits such as speaking engagements, consulting offers, and job opportunities. By maintaining a consistent presence on social media, you position yourself as an active and influential member of your professional community, which can have long-term positive impacts on your career."
          },
          "metadata": {},
          "execution_count": 71
        }
      ]
    },
    {
      "cell_type": "code",
      "source": [
        "from langchain_core.output_parsers import StrOutputParser"
      ],
      "metadata": {
        "id": "6cFifDO_HOOV"
      },
      "execution_count": null,
      "outputs": []
    },
    {
      "cell_type": "code",
      "source": [
        "writer_prompt = ChatPromptTemplate.from_messages(\n",
        "    [\n",
        "        (\n",
        "            \"system\",\n",
        "            \"You are an expert blog author. Write the complete blog article on {topic} using the following section drafts:\\n\\n\"\n",
        "            \"{draft}\\n\\nStrictly follow the blog outline guidelines.\",\n",
        "        ),\n",
        "        (\n",
        "            \"user\",\n",
        "            'Write the complete blog article using markdown format.'\n",
        "        ),\n",
        "    ]\n",
        ")\n",
        "\n",
        "writer = writer_prompt | long_context_llm | StrOutputParser()"
      ],
      "metadata": {
        "id": "EKQazMD7G7tg"
      },
      "execution_count": null,
      "outputs": []
    },
    {
      "cell_type": "code",
      "source": [
        "for tok in writer.stream({\"topic\": title, \"draft\": draft}):\n",
        "    print(tok, end=\"\")"
      ],
      "metadata": {
        "colab": {
          "base_uri": "https://localhost:8080/"
        },
        "id": "LkTa4kVWHPwa",
        "outputId": "aa5fa2bd-963e-4dfc-d6ac-8aeee9deaaa3"
      },
      "execution_count": null,
      "outputs": [
        {
          "output_type": "stream",
          "name": "stdout",
          "text": [
            "# Social Media Benefits Explained\n",
            "\n",
            "## Introduction\n",
            "\n",
            "In today's interconnected world, social media has transcended its original role as a platform for personal sharing and evolved into a powerful tool for professional growth, brand building, and community engagement. While the allure of follower counts and likes can be tempting, it's essential to delve deeper into the more substantial benefits that social media offers. Understanding these benefits can significantly enhance your strategy and help you make the most of your online presence.\n",
            "\n",
            "This blog will explore various dimensions of social media benefits, from increased visibility and engagement to professional development and SEO advantages. By examining these aspects, we aim to provide a comprehensive understanding of how consistent and strategic social media posting can lead to meaningful opportunities and long-term success. So, let’s dive in and explore the profound impacts of social media beyond the superficial metrics of followers and likes.\n",
            "\n",
            "## Visibility and Reach\n",
            "\n",
            "Consistent posting on social media platforms like LinkedIn can significantly enhance your visibility and reach. The importance of this cannot be overstated, as it lays the groundwork for future opportunities and connections. Let's delve into how this works and why it matters.\n",
            "\n",
            "### Algorithm Prioritization\n",
            "\n",
            "Social media algorithms are designed to prioritize content that is relevant and engaging. On LinkedIn, for instance, the algorithm gives preference to posts from your connections, followed accounts, and content that is similar to what you have previously engaged with. By posting consistently, you signal to the algorithm that your content is active and relevant, increasing the likelihood that it will be shown to a broader audience. This means that even if your follower count isn't growing rapidly, your content can still reach a wide array of users, enhancing your overall visibility.\n",
            "\n",
            "### Future Opportunities\n",
            "\n",
            "Increased visibility isn't just about the number of eyes on your posts today; it's about setting the stage for future opportunities. When your content is regularly seen by a diverse audience, it opens doors to new connections, collaborations, and professional opportunities. Consistent posting ensures that your name and expertise are top of mind when someone in your network needs a skill set that you offer. Additionally, the increased reach can lead to invitations for speaking engagements, collaborations on projects, and other professional advancements.\n",
            "\n",
            "## Engagement and Interaction\n",
            "\n",
            "Engagement and interaction are the lifeblood of social media platforms. They are the mechanisms through which your content not only gets noticed but also gains traction, reaching a broader audience. Active engagement, be it through likes, comments, shares, or direct messages, is crucial for several reasons.\n",
            "\n",
            "### Algorithmic Favorability\n",
            "\n",
            "Social media algorithms are designed to favor posts that generate high levels of engagement. When your content receives ample likes, comments, and shares, algorithms interpret this as a sign of quality and interest. As a result, your posts are pushed to a wider audience. This ripple effect means that a single piece of highly engaging content can significantly extend its reach, bringing your profile and brand into the spotlight across various networks.\n",
            "\n",
            "### Building Relationships\n",
            "\n",
            "Engagement is not just about numbers; it's about building meaningful connections. When you interact with your audience through comments and direct messages, you create opportunities for dialogue and relationship-building. This not only humanizes your brand but also positions you as a thought leader in your field. Regular engagement helps foster a community around your content, where followers feel valued and heard, ultimately leading to stronger and more loyal connections.\n",
            "\n",
            "## Brand Building and Authority\n",
            "\n",
            "In the age of digital media, establishing a strong personal brand is more important than ever. Consistently sharing valuable content on social media platforms can significantly contribute to building your authority and credibility within your industry. This section delves into how regular and high-quality content can enhance your brand and professional standing.\n",
            "\n",
            "### Content Quality\n",
            "\n",
            "The cornerstone of building authority on social media is the quality of the content you share. To stand out, your posts should be insightful, well-researched, and relevant to your industry. High-quality content not only attracts attention but also positions you as a knowledgeable and reliable source of information. Whether it's through articles, videos, or infographics, ensuring that your content adds value to your audience’s lives will help establish your expertise and foster trust.\n",
            "\n",
            "### Industry Credibility\n",
            "\n",
            "Consistency in sharing valuable content does more than just keep your profile active; it builds your reputation as an industry leader. When you regularly post insightful content, your peers and followers begin to see you as an authority in your field. This increased credibility can open doors to numerous opportunities, including speaking engagements, consulting roles, and job offers. The more you share your knowledge, the more you reinforce your position as a go-to expert in your industry.\n",
            "\n",
            "## Network Growth\n",
            "\n",
            "Social media is a powerful tool for expanding your professional network. Platforms like LinkedIn use sophisticated algorithms to recommend profiles to users based on shared connections, interests, and interactions. This automated introduction process can significantly enhance your ability to connect with like-minded professionals and potential collaborators.\n",
            "\n",
            "### Connection Recommendations\n",
            "\n",
            "One of the most impactful features of social media platforms is their ability to recommend connections. LinkedIn, for instance, suggests profiles based on common connections, mutual interests, and engagement patterns. This feature not only helps you find relevant professionals but also ensures that your profile is being recommended to others who might benefit from your expertise.\n",
            "\n",
            "### Genuine Followers\n",
            "\n",
            "Growing your network with genuine followers is a key benefit of social media activity. These followers are not just numbers; they are individuals who are genuinely interested in your content and professional background. By consistently sharing valuable content, you attract followers who could become potential clients, partners, or employers. This quality of connection can lead to meaningful professional relationships and opportunities.\n",
            "\n",
            "## Data and Insights\n",
            "\n",
            "Social media platforms like LinkedIn provide a wealth of analytics that can inform and shape your content strategy. Understanding and leveraging these insights can significantly enhance the effectiveness of your social media efforts.\n",
            "\n",
            "### Performance Analytics\n",
            "\n",
            "Performance analytics on platforms like LinkedIn include metrics such as impressions, engagement rates, and audience demographics. These metrics offer a detailed view of how your content is performing. Impressions show how many times your content has been seen, while engagement rates indicate how many people are interacting with your posts. Audience demographics provide insights into who is viewing and engaging with your content, including their job titles, industries, and locations. This data is invaluable for understanding which types of content resonate most with your audience and for identifying potential areas for improvement.\n",
            "\n",
            "### Strategy Adjustment\n",
            "\n",
            "Using the insights garnered from performance analytics, you can tailor your future posts to better meet the needs and preferences of your audience. For example, if you notice that posts about industry trends receive higher engagement, you might decide to focus more on that type of content. Similarly, if your audience demographics reveal a significant number of viewers in a particular industry, you can create content that is specifically relevant to those viewers. Continuously analyzing and adjusting your content strategy based on these insights ensures that your social media efforts remain effective and aligned with your professional goals.\n",
            "\n",
            "## Content Longevity\n",
            "\n",
            "One of the often overlooked but highly valuable aspects of social media is the longevity of your content. Unlike traditional media where the message might dissipate quickly, social media allows your content to continue generating value long after its initial posting date. This is especially true for evergreen content—posts that remain relevant regardless of when they are seen.\n",
            "\n",
            "### Algorithmic Recirculation\n",
            "\n",
            "Social media algorithms have a knack for resurfacing older posts that continue to generate interaction. This means that if your content is engaging and relevant, it can be pushed back into users' feeds well after the original publish date. LinkedIn, for example, often recirculates posts that still attract likes, comments, and shares, thereby maximizing the lifespan of your content.\n",
            "\n",
            "### Prolonged Visibility\n",
            "\n",
            "The benefits of prolonged visibility and engagement cannot be overstated. When your content remains in circulation, it keeps you and your message in front of your audience for longer periods. This extended exposure not only helps build your brand but also maximizes the return on the effort you invested in content creation. Prolonged visibility allows you to reach new audience members who may not have seen your post initially, further extending your influence and potential opportunities.\n",
            "\n",
            "## Professional Development\n",
            "\n",
            "Engaging with your audience on social media is not just about broadcasting your thoughts; it's a two-way street that fosters continuous professional growth. The interactions you have with your audience can provide invaluable insights, fresh perspectives, and learning opportunities that can enhance your understanding of your field.\n",
            "\n",
            "### Audience Feedback\n",
            "\n",
            "One of the most immediate benefits of social media engagement is the feedback you receive from your audience. Their comments, questions, and even criticisms can help you gauge the effectiveness of your content and identify areas for improvement. This feedback loop allows you to fine-tune your messages and address topics that resonate most with your audience, making your content more relevant and impactful.\n",
            "\n",
            "### Continuous Learning\n",
            "\n",
            "Interacting with your audience on social media also exposes you to diverse viewpoints and new ideas. By engaging in conversations, you can learn about the latest trends, challenges, and innovations in your industry. This continuous learning process can significantly contribute to your professional growth, keeping you informed and ahead of the curve. Additionally, these interactions can help you build a reputation as a thought leader who is not only knowledgeable but also open to dialogue and new perspectives.\n",
            "\n",
            "## SEO Benefits\n",
            "\n",
            "Social media platforms like LinkedIn don’t just offer a space for professional networking; they also play a significant role in enhancing your search engine optimization (SEO) efforts. When you engage actively on LinkedIn—through posts, updates, and interactions—not only do you increase your platform visibility, but you also boost your discoverability across search engines like Google. Here’s a closer look at how LinkedIn can serve as a catalyst for your SEO benefits:\n",
            "\n",
            "### Search Engine Indexing\n",
            "\n",
            "LinkedIn profiles and posts are indexed by search engines, which means they can appear in search results when someone looks up relevant keywords. Active profiles with regular updates are more likely to rank higher in search engine results. By posting consistently, you increase the chances of your profile and content appearing in these searches, thereby attracting more views and connections. This indexing extends to LinkedIn posts, articles, and even comments you make on other people’s content. The more active you are, the more likely you are to be discovered by those searching for expertise in your field.\n",
            "\n",
            "### Increased Discoverability\n",
            "\n",
            "Being active and consistent in your LinkedIn postings doesn’t just increase your visibility within the platform; it also enhances your discoverability on search engines. When your LinkedIn profile appears in search results, it serves as an additional touchpoint for potential clients, employers, and collaborators to find and connect with you. This increased discoverability can lead to a range of opportunities, from job offers to speaking engagements and consulting gigs. Moreover, the high domain authority of LinkedIn means that your profile and posts are more likely to rank well in search results compared to other websites or personal blogs. This effectively extends your professional reach, amplifying your influence and authority in your industry.\n",
            "\n",
            "## Community Building\n",
            "\n",
            "Social media is not just a platform for self-promotion; it’s a hub for fostering communities. By consistently posting, you create a welcoming space for like-minded professionals to gather, share ideas, and discuss relevant topics. This active participation encourages dialogue, providing you with diverse perspectives and a deeper understanding of your field. The more you engage, the more you become a cornerstone of these discussions, enhancing your influence and broadening your professional horizons.\n",
            "\n",
            "### Fostering Communities\n",
            "\n",
            "Consistent posting creates a virtual gathering space for discussions among like-minded professionals. This engagement fosters a sense of community and belonging, encouraging members to share their insights and experiences.\n",
            "\n",
            "### Supportive Networks\n",
            "\n",
            "A robust community offers a support network for advice, resource sharing, and potential collaborations. These connections can be crucial during career transitions or when seeking new opportunities.\n",
            "\n",
            "## Balancing Content and Follower Growth\n",
            "\n",
            "In the dynamic world of social media, balancing content creation and follower growth is key to building a strong, influential presence. While it might be tempting to focus on amassing followers quickly, the real value lies in cultivating meaningful engagement through consistent and high-quality content.\n",
            "\n",
            "### Consistency in Posting\n",
            "\n",
            "Consistency is crucial for growing and maintaining a follower base. Regular posting keeps your audience engaged and signals to social media algorithms that your profile is active and relevant. By developing a consistent posting schedule, you ensure that your content remains visible, and your audience knows when to expect new updates from you. This regularity helps build trust with your followers, which is essential for long-term engagement.\n",
            "\n",
            "### Long-term Benefits\n",
            "\n",
            "The long-term benefits of regular posting go beyond immediate engagement. As you consistently share valuable content, you enhance your visibility on social media platforms. This increased visibility can lead to a growing network of followers who are genuinely interested in your field. Over time, this can translate into greater professional opportunities, such as collaborations, partnerships, and even job offers. Additionally, the more you post, the more data you gather on what resonates with your audience, allowing you to refine your content strategy for even better results.\n",
            "\n",
            "## Conclusion\n",
            "\n",
            "Social media offers a plethora of benefits that go beyond just the number of followers you have. By consistently posting high-quality content, you can significantly increase your visibility and reach, thanks to the algorithmic prioritization of engaged content. This visibility can lead to a variety of future opportunities, from new connections and collaborations to career advancements.\n",
            "\n",
            "Engagement and interaction are essential for extending your reach and building meaningful relationships. High engagement not only makes your content more favorable in the eyes of social media algorithms but also positions you as a thought leader in your field. This can open doors to speaking engagements, consulting jobs, and even new employment opportunities.\n",
            "\n",
            "Regular content sharing helps in brand building and establishing your authority in your industry. Posting insightful and valuable content consistently can lead to increased credibility, which, in turn, might result in significant professional opportunities.\n",
            "\n",
            "The growth of your network is another crucial benefit. Social media platforms often recommend your profile based on shared connections and interests, helping you gain genuine followers who could be potential clients, partners, or employers. Additionally, the data and insights provided by these platforms can help you tailor your content strategy for better engagement and performance.\n",
            "\n",
            "Evergreen content has the advantage of continued engagement and visibility long after it's posted, thanks to algorithmic recirculation. Engaging with your audience’s comments and feedback can provide new perspectives and learning opportunities, contributing to your professional development.\n",
            "\n",
            "Lastly, active social media profiles with regular updates tend to be indexed by search engines, enhancing your discoverability and leading to new opportunities. Social media also fosters communities where like-minded professionals can engage in meaningful discussions, providing a supportive network for advice and collaboration.\n",
            "\n",
            "In summary, the key benefits of regular social media posting include increased visibility, engagement, network growth, professional development, and enhanced discoverability. While the journey may be slow and steady, the long-term benefits are worth the effort. So, remain patient, stay consistent, and watch as your social media presence transforms into a powerful professional asset."
          ]
        }
      ]
    },
    {
      "cell_type": "code",
      "source": [
        "d = {\n",
        "    \"a\": \"hi\",\n",
        "    \"b\": \"hello\",\n",
        "    \"c\": \"bye\"\n",
        "}\n",
        "\n",
        "print({**d, \"c\": \"bye again\"})"
      ],
      "metadata": {
        "colab": {
          "base_uri": "https://localhost:8080/"
        },
        "id": "lGS0PUeYHe1t",
        "outputId": "9d1d3e83-ebb3-4c0b-82de-e2ef5ad35c57"
      },
      "execution_count": null,
      "outputs": [
        {
          "output_type": "stream",
          "name": "stdout",
          "text": [
            "{'a': 'hi', 'b': 'hello', 'c': 'bye again'}\n"
          ]
        }
      ]
    }
  ]
}